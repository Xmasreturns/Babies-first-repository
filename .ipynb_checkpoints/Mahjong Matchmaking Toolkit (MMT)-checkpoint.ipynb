{
 "cells": [
  {
   "cell_type": "code",
   "execution_count": 1,
   "metadata": {
    "collapsed": false
   },
   "outputs": [],
   "source": [
    "import numpy as np\n",
    "import pandas as pd\n",
    "from pandas import Series, DataFrame\n",
    "import random\n",
    "\n",
    "def main():\n",
    "    players_list = [40,6,23,26,15,98,1,10,55,16,\n",
    "                      56,97,96,12,13,41,52,88,66,94,\n",
    "                      89,86,87,77,79,72,76]\n",
    "    input_data = pd.read_csv('MahjongScores.csv')\n",
    "\n",
    "    pairings_df = create_pairings_table(players_list)\n",
    "    matchups_df = create_freq_matchups(pairings_df, input_data)\n",
    "    table_counts = get_table_counts(players_list)\n",
    "     \n",
    "    #output_tables = match_by_rating(table_counts, matchups_df)\n",
    "    #print output_tables"
   ]
  },
  {
   "cell_type": "code",
   "execution_count": 2,
   "metadata": {
    "collapsed": true
   },
   "outputs": [],
   "source": [
    "def get_player_data(input_data, players_list):\n",
    "    # Reduce input_data to only the rows relevant to today's players\n",
    "    games_rows = pd.DataFrame()\n",
    "    for i in players_list:\n",
    "        games_rows = games_rows.append(input_data.loc[(input_data['PlayerId'] == i)])\n",
    "    return games_rows"
   ]
  },
  {
   "cell_type": "code",
   "execution_count": 3,
   "metadata": {
    "collapsed": false
   },
   "outputs": [],
   "source": [
    "# Returns a DataFrame of all games for a single PlayerId\n",
    "def get_playerid_games(input_data, PlayerId):\n",
    "    grouped_by_player = input_data.groupby('PlayerId')\n",
    "    listofgames = grouped_by_player.get_group(PlayerId)\n",
    "    return listofgames"
   ]
  },
  {
   "cell_type": "code",
   "execution_count": 4,
   "metadata": {
    "collapsed": false
   },
   "outputs": [],
   "source": [
    "def get_split_tables(table_counts, players_list):\n",
    "    tables_4p_made = 0\n",
    "    tables_5p_made = 0\n",
    "    split_tables = []\n",
    "    start = 0\n",
    "    end = 4\n",
    "    \n",
    "    if table_counts[1] > 0:\n",
    "        for i in range(table_counts[1]):\n",
    "            split_tables.append( players_list[start:end] )\n",
    "            tables_4p_made += 1\n",
    "            start += 4\n",
    "            end += 4\n",
    "    \n",
    "    end += 1\n",
    "    \n",
    "    if table_counts[2] > 0:\n",
    "        for i in range(table_counts[2]):\n",
    "            split_tables.append( players_list[start:end])\n",
    "            tables_5p_made += 1\n",
    "            start += 5\n",
    "            end += 5\n",
    "        \n",
    "    return split_tables"
   ]
  },
  {
   "cell_type": "code",
   "execution_count": 5,
   "metadata": {
    "collapsed": true
   },
   "outputs": [],
   "source": [
    "def get_table_counts(players_list):\n",
    "    # Determine amount of 5 person tables\n",
    "    if len(players_list) < 8:\n",
    "        total_tables = 1\n",
    "        if len(players_list) == 4:\n",
    "            tables_4p = 1\n",
    "            tables_5p = 0\n",
    "        elif len(players_list) == 5:\n",
    "            tables_4p = 0\n",
    "            tables_5p = 1\n",
    "        else:\n",
    "            tables_4p = tables_5p = 0\n",
    "    elif len(players_list) == 11:\n",
    "        total_tables = 2\n",
    "        tables_4p = tables_5p = 0\n",
    "    else:\n",
    "        tables_5p = len(players_list) % 4\n",
    "        total_tables = int( len(players_list) / 4)\n",
    "        tables_4p = total_tables - tables_5p\n",
    "    \n",
    "    table_counts = [total_tables, tables_4p, tables_5p]\n",
    "    \n",
    "    return table_counts"
   ]
  },
  {
   "cell_type": "code",
   "execution_count": 6,
   "metadata": {
    "collapsed": true
   },
   "outputs": [],
   "source": [
    "def create_pairings_table(players_list):\n",
    "    # Create a zeros DataFrame of (#players,#players) size for matchups, with ordered indices.\n",
    "    num_players = len(players_list)\n",
    "    pairings_df = DataFrame(np.zeros(num_players**2).reshape(num_players,num_players))\n",
    "    pairings_df.index = sorted(players_list)\n",
    "    pairings_df.columns = sorted(players_list)\n",
    "    return pairings_df"
   ]
  },
  {
   "cell_type": "code",
   "execution_count": 7,
   "metadata": {
    "collapsed": false
   },
   "outputs": [],
   "source": [
    "def create_freq_matchups(pairings_df, input_data):\n",
    "    # Grab today's players and initialize output df\n",
    "    players_list = pairings_df.columns\n",
    "    matchups_df = pairings_df.copy()\n",
    "        \n",
    "    # Pull all rows from input_data relevant to today's players\n",
    "    games_rows = get_player_data(input_data, players_list)\n",
    "    \n",
    "    # Make a list of unique games\n",
    "    uniquegames = games_rows['GameId'].unique()\n",
    "        \n",
    "    # Get all players in each relevant game and populate matchup table one game at a time\n",
    "    for gameid in uniquegames:\n",
    "        gameid_players = []\n",
    "        gameid_rows = games_rows.loc[(games_rows['GameId'] == gameid)] # Pull only the rows for players in that game\n",
    "        gameid_players = gameid_rows['PlayerId'].tolist() #Give each player an index\n",
    "        for i in range( len(gameid_players)): # For each player in a game\n",
    "            for j in range( len(gameid_players)): \n",
    "                matchups_df.at[gameid_players[i],gameid_players[j]] += 1 # Add a game in opponent's column\n",
    "    \n",
    "    # Diagonal values are total # of games played for that player\n",
    "    return matchups_df  "
   ]
  },
  {
   "cell_type": "code",
   "execution_count": 8,
   "metadata": {
    "collapsed": false,
    "scrolled": true
   },
   "outputs": [],
   "source": [
    "def create_score_matchups(pairings_df, input_data):\n",
    "    players_list = pairings_df.columns\n",
    "    games_rows = get_player_data(input_data, players_list)\n",
    "    matchups_df = pairings_df.copy()\n",
    "    \n",
    "    for gameid in games_rows['GameId'].unique():\n",
    "        # Pull rows for one game at a time\n",
    "        gameid_players = []\n",
    "        gameid_rows = games_rows.loc[(games_rows['GameId'] == gameid)]\n",
    "\n",
    "        # Paired scores and players have the same index\n",
    "        gameid_players = gameid_rows['PlayerId'].tolist()\n",
    "        gameid_scores = gameid_rows['Score'].tolist()\n",
    "\n",
    "        for i in range( len(gameid_players)): # For each player in that game\n",
    "            flag = False\n",
    "            for j in range( len(gameid_players)): # Get all players (including self)\n",
    "                # Don't add along diagonal more than once for each player\n",
    "                if (i == j):\n",
    "                    if flag == False: \n",
    "                        matchups_df.at[gameid_players[i],gameid_players[j]] += gameid_scores[i]\n",
    "                    flag = True\n",
    "                else:\n",
    "                    matchups_df.at[gameid_players[i],gameid_players[j]] += gameid_scores[i] # Add score of i to matchup sum\n",
    "    \n",
    "    freq_df = create_freq_matchups(pairings_df, input_data)\n",
    "    for i in range( len(players_list)):\n",
    "        for j in range( len(players_list)):\n",
    "            matchups_df.iat[i,j] = matchups_df.iat[i,j] / np.diagonal(freq_df)[j]\n",
    "    \n",
    "    # Diagonal values are player's average score            \n",
    "    return matchups_df"
   ]
  },
  {
   "cell_type": "code",
   "execution_count": 9,
   "metadata": {
    "collapsed": false
   },
   "outputs": [],
   "source": [
    "# Matchmaking method: Generate tables via swapping individuals (n^2.5 iterations) - swaps within same tables sometimes\n",
    "def match_by_rating(table_counts, matchups_df):\n",
    "    players_list = list(matchups_df.columns) # Make a list of today's players\n",
    "    split_tables = get_split_tables(table_counts, players_list)\n",
    "    best_tables = split_tables\n",
    "    \n",
    "    for i in range(int(len(players_list)**2.5)):\n",
    "        \n",
    "        # Calculate total table score\n",
    "        improved = 0\n",
    "        total_score = 0\n",
    "        for table in split_tables:\n",
    "            total_score += sum_ratings(table, matchups_df)\n",
    "\n",
    "        if (i == 0):\n",
    "            min_score = total_score\n",
    "        \n",
    "        # Save score if it's the best\n",
    "        if (total_score < min_score):\n",
    "            min_score = total_score\n",
    "            best_tables = split_tables\n",
    "            improved = 1\n",
    "        \n",
    "        # Use best set as basis if no improvement\n",
    "        if improved == 0:\n",
    "            split_tables = best_tables\n",
    "        \n",
    "        # Split and swap 2 players\n",
    "        unsplit_tables = []\n",
    "        for table in split_tables:\n",
    "            unsplit_tables += table\n",
    "        \n",
    "        unsplit_tables = swap_two(unsplit_tables)\n",
    "                \n",
    "        # Split back into tables\n",
    "        split_tables = get_split_tables(table_counts, unsplit_tables)\n",
    "        \n",
    "    return best_tables"
   ]
  },
  {
   "cell_type": "code",
   "execution_count": 10,
   "metadata": {
    "collapsed": true
   },
   "outputs": [],
   "source": [
    "# Returns aggregate data of players in players_list from input_data\n",
    "def playerstats(input_data, players_list):\n",
    "    fields = ['Total games played', '4p games played', '5p games played', 'Mean score', 'Stdev score',\n",
    "              'Mean rank', 'Stdev rank', 'Mean 4p rank', 'Stdev 4p rank', 'Mean 5p rank', 'Stdev 5p rank']\n",
    "    players_list.sort()\n",
    "    results = DataFrame(index=fields, columns=players_list)\n",
    "        \n",
    "    # Make groupby objects of input data to take advantage of aggregate functions\n",
    "    grouped_by_gameid = input_data.groupby('GameId')\n",
    "    grouped_by_playerid = input_data.groupby('PlayerId')\n",
    "    \n",
    "    # Using .size() gives the number of players in each game\n",
    "    grouped_by_gameid.size()\n",
    "\n",
    "    # Populate the results dataframe player by player\n",
    "    for player in players_list:\n",
    "\n",
    "        # Pull games for player from groupby object\n",
    "        curr_player_data = grouped_by_playerid.get_group(player)\n",
    "        gamesplayed = curr_player_data.loc[:,'GameId'].tolist() # Put all games played into a list\n",
    "        gameids_4p = []\n",
    "        gameids_5p = []\n",
    "        \n",
    "        for gameid in gamesplayed:\n",
    "            if (grouped_by_gameid.size()[gameid] == 4):\n",
    "                gameids_4p.append(gameid)\n",
    "            elif (grouped_by_gameid.size()[gameid] == 5):\n",
    "                gameids_5p.append(gameid)\n",
    "        games_4p = curr_player_data.loc[curr_player_data['GameId'].isin(gameids_4p)]  \n",
    "        games_5p = curr_player_data.loc[curr_player_data['GameId'].isin(gameids_5p)]   \n",
    "        \n",
    "        # Populate results DataFrame\n",
    "        results.at['Total games played', player] = len(gamesplayed)\n",
    "        results.at['4p games played', player] = len(gameids_4p)\n",
    "        results.at['5p games played', player] = len(gameids_5p)\n",
    "        results.at['Mean score', player] = round( curr_player_data['Score'].mean(), 2)\n",
    "        results.at['Stdev score', player] = round( curr_player_data['Score'].std(), 2)\n",
    "        results.at['Mean rank', player] = round( curr_player_data['Rank'].mean(), 2)\n",
    "        results.at['Stdev rank', player] = round( curr_player_data['Rank'].std(), 2)\n",
    "        results.at['Mean 4p rank', player] = round( games_4p['Rank'].mean(), 2)\n",
    "        results.at['Stdev 4p rank', player] = round( games_4p['Rank'].std(), 2)\n",
    "        results.at['Mean 5p rank', player] = round( games_5p['Rank'].mean(), 2)\n",
    "        results.at['Stdev 5p rank', player] = round( games_5p['Rank'].std(), 2)\n",
    "    \n",
    "    return results"
   ]
  },
  {
   "cell_type": "code",
   "execution_count": 11,
   "metadata": {
    "collapsed": true
   },
   "outputs": [],
   "source": [
    "def sum_ratings(table_players, matchups_df):\n",
    "    table_sum = 0\n",
    "    for i in table_players:\n",
    "        for j in table_players:\n",
    "            if i>j: # This only serves to prevent repeats\n",
    "                table_sum += max(matchups_df.at[i,j],matchups_df.at[j,i])\n",
    "    return table_sum"
   ]
  },
  {
   "cell_type": "code",
   "execution_count": 12,
   "metadata": {
    "collapsed": true
   },
   "outputs": [],
   "source": [
    "# Swaps 2 random entries in a list\n",
    "def swap_two(entrylist):\n",
    "    entrylist = entrylist[:]\n",
    "    a = random.randint(0, len(entrylist) - 1)\n",
    "    b = random.randint(0, len(entrylist) - 1)\n",
    "    entrylist[a], entrylist[b] = entrylist[b], entrylist[a]\n",
    "\n",
    "    return entrylist"
   ]
  },
  {
   "cell_type": "code",
   "execution_count": null,
   "metadata": {
    "collapsed": true
   },
   "outputs": [],
   "source": []
  },
  {
   "cell_type": "markdown",
   "metadata": {},
   "source": [
    "# Next steps\n",
    "Pose and answer the following questions:\n",
    "    * Is there a correlation between # of 5 player tables played and standard deviation of scores?\n",
    "    * What factors contribute the most to low average scores?    "
   ]
  },
  {
   "cell_type": "code",
   "execution_count": 97,
   "metadata": {
    "collapsed": false
   },
   "outputs": [],
   "source": [
    "players_list = range(1,99)\n",
    "input_data = pd.read_csv('MahjongScores.csv')\n",
    "\n",
    "pairings_df = create_pairings_table(players_list)\n",
    "matchups_df = create_freq_matchups(pairings_df, input_data)\n",
    "table_counts = get_table_counts(players_list)\n",
    "\n",
    "#output_tables = match_by_rating(table_counts, matchups_df)\n",
    "#print output_tables"
   ]
  },
  {
   "cell_type": "code",
   "execution_count": 98,
   "metadata": {
    "collapsed": false,
    "scrolled": true
   },
   "outputs": [
    {
     "data": {
      "text/html": [
       "<div>\n",
       "<table border=\"1\" class=\"dataframe\">\n",
       "  <thead>\n",
       "    <tr style=\"text-align: right;\">\n",
       "      <th></th>\n",
       "      <th>1</th>\n",
       "      <th>2</th>\n",
       "      <th>3</th>\n",
       "      <th>4</th>\n",
       "      <th>5</th>\n",
       "      <th>6</th>\n",
       "      <th>7</th>\n",
       "      <th>8</th>\n",
       "      <th>9</th>\n",
       "      <th>10</th>\n",
       "      <th>...</th>\n",
       "      <th>89</th>\n",
       "      <th>90</th>\n",
       "      <th>91</th>\n",
       "      <th>92</th>\n",
       "      <th>93</th>\n",
       "      <th>94</th>\n",
       "      <th>95</th>\n",
       "      <th>96</th>\n",
       "      <th>97</th>\n",
       "      <th>98</th>\n",
       "    </tr>\n",
       "  </thead>\n",
       "  <tbody>\n",
       "    <tr>\n",
       "      <th>Total games played</th>\n",
       "      <td>11</td>\n",
       "      <td>2</td>\n",
       "      <td>18</td>\n",
       "      <td>87</td>\n",
       "      <td>2</td>\n",
       "      <td>68</td>\n",
       "      <td>5</td>\n",
       "      <td>1</td>\n",
       "      <td>86</td>\n",
       "      <td>11</td>\n",
       "      <td>...</td>\n",
       "      <td>12</td>\n",
       "      <td>18</td>\n",
       "      <td>3</td>\n",
       "      <td>3</td>\n",
       "      <td>11</td>\n",
       "      <td>1</td>\n",
       "      <td>1</td>\n",
       "      <td>2</td>\n",
       "      <td>1</td>\n",
       "      <td>163</td>\n",
       "    </tr>\n",
       "    <tr>\n",
       "      <th>4p games played</th>\n",
       "      <td>7</td>\n",
       "      <td>1</td>\n",
       "      <td>12</td>\n",
       "      <td>51</td>\n",
       "      <td>2</td>\n",
       "      <td>49</td>\n",
       "      <td>4</td>\n",
       "      <td>1</td>\n",
       "      <td>51</td>\n",
       "      <td>9</td>\n",
       "      <td>...</td>\n",
       "      <td>7</td>\n",
       "      <td>12</td>\n",
       "      <td>2</td>\n",
       "      <td>1</td>\n",
       "      <td>8</td>\n",
       "      <td>1</td>\n",
       "      <td>1</td>\n",
       "      <td>1</td>\n",
       "      <td>1</td>\n",
       "      <td>107</td>\n",
       "    </tr>\n",
       "    <tr>\n",
       "      <th>5p games played</th>\n",
       "      <td>4</td>\n",
       "      <td>1</td>\n",
       "      <td>6</td>\n",
       "      <td>36</td>\n",
       "      <td>0</td>\n",
       "      <td>19</td>\n",
       "      <td>1</td>\n",
       "      <td>0</td>\n",
       "      <td>35</td>\n",
       "      <td>2</td>\n",
       "      <td>...</td>\n",
       "      <td>5</td>\n",
       "      <td>6</td>\n",
       "      <td>1</td>\n",
       "      <td>2</td>\n",
       "      <td>3</td>\n",
       "      <td>0</td>\n",
       "      <td>0</td>\n",
       "      <td>1</td>\n",
       "      <td>0</td>\n",
       "      <td>56</td>\n",
       "    </tr>\n",
       "    <tr>\n",
       "      <th>Mean score</th>\n",
       "      <td>-4.91</td>\n",
       "      <td>-14</td>\n",
       "      <td>-4.94</td>\n",
       "      <td>3.66</td>\n",
       "      <td>-14</td>\n",
       "      <td>6.47</td>\n",
       "      <td>-2</td>\n",
       "      <td>12</td>\n",
       "      <td>3.97</td>\n",
       "      <td>-0.09</td>\n",
       "      <td>...</td>\n",
       "      <td>3.5</td>\n",
       "      <td>-4.22</td>\n",
       "      <td>-2.67</td>\n",
       "      <td>5.67</td>\n",
       "      <td>-11.18</td>\n",
       "      <td>-32</td>\n",
       "      <td>-12</td>\n",
       "      <td>5</td>\n",
       "      <td>34</td>\n",
       "      <td>6.59</td>\n",
       "    </tr>\n",
       "    <tr>\n",
       "      <th>Stdev score</th>\n",
       "      <td>24.6</td>\n",
       "      <td>65.05</td>\n",
       "      <td>31.68</td>\n",
       "      <td>28.4</td>\n",
       "      <td>7.07</td>\n",
       "      <td>27.07</td>\n",
       "      <td>32.72</td>\n",
       "      <td>NaN</td>\n",
       "      <td>30.63</td>\n",
       "      <td>28.31</td>\n",
       "      <td>...</td>\n",
       "      <td>28.57</td>\n",
       "      <td>26.7</td>\n",
       "      <td>29.77</td>\n",
       "      <td>43.84</td>\n",
       "      <td>21.97</td>\n",
       "      <td>NaN</td>\n",
       "      <td>NaN</td>\n",
       "      <td>36.77</td>\n",
       "      <td>NaN</td>\n",
       "      <td>26.74</td>\n",
       "    </tr>\n",
       "    <tr>\n",
       "      <th>Mean rank</th>\n",
       "      <td>2.82</td>\n",
       "      <td>3</td>\n",
       "      <td>2.83</td>\n",
       "      <td>2.61</td>\n",
       "      <td>3</td>\n",
       "      <td>2.41</td>\n",
       "      <td>2.6</td>\n",
       "      <td>2</td>\n",
       "      <td>2.55</td>\n",
       "      <td>2.64</td>\n",
       "      <td>...</td>\n",
       "      <td>2.67</td>\n",
       "      <td>2.83</td>\n",
       "      <td>2.67</td>\n",
       "      <td>2.33</td>\n",
       "      <td>3.09</td>\n",
       "      <td>4</td>\n",
       "      <td>3</td>\n",
       "      <td>2.5</td>\n",
       "      <td>1</td>\n",
       "      <td>2.39</td>\n",
       "    </tr>\n",
       "    <tr>\n",
       "      <th>Stdev rank</th>\n",
       "      <td>1.25</td>\n",
       "      <td>2.83</td>\n",
       "      <td>1.54</td>\n",
       "      <td>1.3</td>\n",
       "      <td>0</td>\n",
       "      <td>1.26</td>\n",
       "      <td>1.14</td>\n",
       "      <td>NaN</td>\n",
       "      <td>1.4</td>\n",
       "      <td>1.29</td>\n",
       "      <td>...</td>\n",
       "      <td>1.37</td>\n",
       "      <td>1.29</td>\n",
       "      <td>1.15</td>\n",
       "      <td>2.31</td>\n",
       "      <td>1.04</td>\n",
       "      <td>NaN</td>\n",
       "      <td>NaN</td>\n",
       "      <td>2.12</td>\n",
       "      <td>NaN</td>\n",
       "      <td>1.23</td>\n",
       "    </tr>\n",
       "    <tr>\n",
       "      <th>Mean 4p rank</th>\n",
       "      <td>2.71</td>\n",
       "      <td>1</td>\n",
       "      <td>2.5</td>\n",
       "      <td>2.27</td>\n",
       "      <td>3</td>\n",
       "      <td>2.27</td>\n",
       "      <td>2.5</td>\n",
       "      <td>2</td>\n",
       "      <td>2.27</td>\n",
       "      <td>2.67</td>\n",
       "      <td>...</td>\n",
       "      <td>2</td>\n",
       "      <td>2.33</td>\n",
       "      <td>3</td>\n",
       "      <td>1</td>\n",
       "      <td>3.25</td>\n",
       "      <td>4</td>\n",
       "      <td>3</td>\n",
       "      <td>1</td>\n",
       "      <td>1</td>\n",
       "      <td>2.13</td>\n",
       "    </tr>\n",
       "    <tr>\n",
       "      <th>Stdev 4p rank</th>\n",
       "      <td>1.25</td>\n",
       "      <td>NaN</td>\n",
       "      <td>1.24</td>\n",
       "      <td>1.11</td>\n",
       "      <td>0</td>\n",
       "      <td>1.15</td>\n",
       "      <td>1.29</td>\n",
       "      <td>NaN</td>\n",
       "      <td>1.2</td>\n",
       "      <td>1.22</td>\n",
       "      <td>...</td>\n",
       "      <td>1.15</td>\n",
       "      <td>1.15</td>\n",
       "      <td>1.41</td>\n",
       "      <td>NaN</td>\n",
       "      <td>0.89</td>\n",
       "      <td>NaN</td>\n",
       "      <td>NaN</td>\n",
       "      <td>NaN</td>\n",
       "      <td>NaN</td>\n",
       "      <td>1.04</td>\n",
       "    </tr>\n",
       "    <tr>\n",
       "      <th>Mean 5p rank</th>\n",
       "      <td>3</td>\n",
       "      <td>5</td>\n",
       "      <td>3.5</td>\n",
       "      <td>3.08</td>\n",
       "      <td>NaN</td>\n",
       "      <td>2.79</td>\n",
       "      <td>3</td>\n",
       "      <td>NaN</td>\n",
       "      <td>2.94</td>\n",
       "      <td>2.5</td>\n",
       "      <td>...</td>\n",
       "      <td>3.6</td>\n",
       "      <td>3.83</td>\n",
       "      <td>2</td>\n",
       "      <td>3</td>\n",
       "      <td>2.67</td>\n",
       "      <td>NaN</td>\n",
       "      <td>NaN</td>\n",
       "      <td>4</td>\n",
       "      <td>NaN</td>\n",
       "      <td>2.89</td>\n",
       "    </tr>\n",
       "    <tr>\n",
       "      <th>Stdev 5p rank</th>\n",
       "      <td>1.41</td>\n",
       "      <td>NaN</td>\n",
       "      <td>1.97</td>\n",
       "      <td>1.4</td>\n",
       "      <td>NaN</td>\n",
       "      <td>1.47</td>\n",
       "      <td>NaN</td>\n",
       "      <td>NaN</td>\n",
       "      <td>1.59</td>\n",
       "      <td>2.12</td>\n",
       "      <td>...</td>\n",
       "      <td>1.14</td>\n",
       "      <td>0.98</td>\n",
       "      <td>NaN</td>\n",
       "      <td>2.83</td>\n",
       "      <td>1.53</td>\n",
       "      <td>NaN</td>\n",
       "      <td>NaN</td>\n",
       "      <td>NaN</td>\n",
       "      <td>NaN</td>\n",
       "      <td>1.42</td>\n",
       "    </tr>\n",
       "  </tbody>\n",
       "</table>\n",
       "<p>11 rows × 98 columns</p>\n",
       "</div>"
      ],
      "text/plain": [
       "                      1      2      3     4     5      6      7    8      9   \\\n",
       "Total games played    11      2     18    87     2     68      5    1     86   \n",
       "4p games played        7      1     12    51     2     49      4    1     51   \n",
       "5p games played        4      1      6    36     0     19      1    0     35   \n",
       "Mean score         -4.91    -14  -4.94  3.66   -14   6.47     -2   12   3.97   \n",
       "Stdev score         24.6  65.05  31.68  28.4  7.07  27.07  32.72  NaN  30.63   \n",
       "Mean rank           2.82      3   2.83  2.61     3   2.41    2.6    2   2.55   \n",
       "Stdev rank          1.25   2.83   1.54   1.3     0   1.26   1.14  NaN    1.4   \n",
       "Mean 4p rank        2.71      1    2.5  2.27     3   2.27    2.5    2   2.27   \n",
       "Stdev 4p rank       1.25    NaN   1.24  1.11     0   1.15   1.29  NaN    1.2   \n",
       "Mean 5p rank           3      5    3.5  3.08   NaN   2.79      3  NaN   2.94   \n",
       "Stdev 5p rank       1.41    NaN   1.97   1.4   NaN   1.47    NaN  NaN   1.59   \n",
       "\n",
       "                       10  ...       89    90     91     92     93   94   95  \\\n",
       "Total games played     11  ...       12    18      3      3     11    1    1   \n",
       "4p games played         9  ...        7    12      2      1      8    1    1   \n",
       "5p games played         2  ...        5     6      1      2      3    0    0   \n",
       "Mean score          -0.09  ...      3.5 -4.22  -2.67   5.67 -11.18  -32  -12   \n",
       "Stdev score         28.31  ...    28.57  26.7  29.77  43.84  21.97  NaN  NaN   \n",
       "Mean rank            2.64  ...     2.67  2.83   2.67   2.33   3.09    4    3   \n",
       "Stdev rank           1.29  ...     1.37  1.29   1.15   2.31   1.04  NaN  NaN   \n",
       "Mean 4p rank         2.67  ...        2  2.33      3      1   3.25    4    3   \n",
       "Stdev 4p rank        1.22  ...     1.15  1.15   1.41    NaN   0.89  NaN  NaN   \n",
       "Mean 5p rank          2.5  ...      3.6  3.83      2      3   2.67  NaN  NaN   \n",
       "Stdev 5p rank        2.12  ...     1.14  0.98    NaN   2.83   1.53  NaN  NaN   \n",
       "\n",
       "                       96   97     98  \n",
       "Total games played      2    1    163  \n",
       "4p games played         1    1    107  \n",
       "5p games played         1    0     56  \n",
       "Mean score              5   34   6.59  \n",
       "Stdev score         36.77  NaN  26.74  \n",
       "Mean rank             2.5    1   2.39  \n",
       "Stdev rank           2.12  NaN   1.23  \n",
       "Mean 4p rank            1    1   2.13  \n",
       "Stdev 4p rank         NaN  NaN   1.04  \n",
       "Mean 5p rank            4  NaN   2.89  \n",
       "Stdev 5p rank         NaN  NaN   1.42  \n",
       "\n",
       "[11 rows x 98 columns]"
      ]
     },
     "execution_count": 98,
     "metadata": {},
     "output_type": "execute_result"
    }
   ],
   "source": [
    "playerstats(input_data, players_list)"
   ]
  },
  {
   "cell_type": "code",
   "execution_count": 99,
   "metadata": {
    "collapsed": false,
    "scrolled": true
   },
   "outputs": [],
   "source": [
    "transposed = playerstats(input_data, players_list)\n",
    "transposed = transposed.transpose()"
   ]
  },
  {
   "cell_type": "code",
   "execution_count": 100,
   "metadata": {
    "collapsed": true
   },
   "outputs": [],
   "source": [
    "import matplotlib\n",
    "%matplotlib inline\n",
    "import matplotlib.pyplot as plt\n",
    "import seaborn as sns"
   ]
  },
  {
   "cell_type": "code",
   "execution_count": 101,
   "metadata": {
    "collapsed": true
   },
   "outputs": [],
   "source": [
    "transposed['% 5p games'] = transposed['5p games played'] / transposed['Total games played']"
   ]
  },
  {
   "cell_type": "code",
   "execution_count": 102,
   "metadata": {
    "collapsed": false,
    "scrolled": true
   },
   "outputs": [
    {
     "data": {
      "text/plain": [
       "<matplotlib.axes._subplots.AxesSubplot at 0x301e5a20>"
      ]
     },
     "execution_count": 102,
     "metadata": {},
     "output_type": "execute_result"
    },
    {
     "data": {
      "image/png": "[encoded data removed]",
      "text/plain": [
       "<matplotlib.figure.Figure at 0x2f97f2e8>"
      ]
     },
     "metadata": {},
     "output_type": "display_data"
    }
   ],
   "source": [
    "sns.regplot('% 5p games','Stdev score', transposed)"
   ]
  },
  {
   "cell_type": "code",
   "execution_count": 105,
   "metadata": {
    "collapsed": false
   },
   "outputs": [
    {
     "data": {
      "text/plain": [
       "<seaborn.axisgrid.JointGrid at 0x3109c780>"
      ]
     },
     "execution_count": 105,
     "metadata": {},
     "output_type": "execute_result"
    },
    {
     "data": {
      "image/png": "[encoded data removed]",
      "text/plain": [
       "<matplotlib.figure.Figure at 0x3109c6d8>"
      ]
     },
     "metadata": {},
     "output_type": "display_data"
    }
   ],
   "source": [
    "sns.jointplot('% 5p games','Stdev score',transposed,kind='kde')"
   ]
  },
  {
   "cell_type": "code",
   "execution_count": 104,
   "metadata": {
    "collapsed": false
   },
   "outputs": [
    {
     "data": {
      "text/plain": [
       "<seaborn.axisgrid.PairGrid at 0x30969860>"
      ]
     },
     "execution_count": 104,
     "metadata": {},
     "output_type": "execute_result"
    },
    {
     "data": {
      "image/png": "[encoded data removed]",
      "text/plain": [
       "<matplotlib.figure.Figure at 0x30806b38>"
      ]
     },
     "metadata": {},
     "output_type": "display_data"
    }
   ],
   "source": [
    "sns.pairplot(transposed, x_vars=['% 5p games', 'Total games played', 'Mean rank', \n",
    "                                 'Stdev rank'], y_vars=['Mean score'], kind='reg', size=4)"
   ]
  },
  {
   "cell_type": "code",
   "execution_count": null,
   "metadata": {
    "collapsed": true
   },
   "outputs": [],
   "source": []
  }
 ],
 "metadata": {
  "kernelspec": {
   "display_name": "Python 2",
   "language": "python",
   "name": "python2"
  },
  "language_info": {
   "codemirror_mode": {
    "name": "ipython",
    "version": 2
   },
   "file_extension": ".py",
   "mimetype": "text/x-python",
   "name": "python",
   "nbconvert_exporter": "python",
   "pygments_lexer": "ipython2",
   "version": "2.7.10"
  }
 },
 "nbformat": 4,
 "nbformat_minor": 0
}
