{
 "cells": [
  {
   "cell_type": "code",
   "execution_count": 1,
   "metadata": {
    "collapsed": false
   },
   "outputs": [],
   "source": [
    "import numpy as np\n",
    "import pandas as pd\n",
    "from pandas import Series, DataFrame\n",
    "import itertools\n",
    "from itertools import combinations\n",
    "import random\n",
    "\n",
    "def main():\n",
    "    players_list = [40,6,23,26,15,98,1,10,55,16,\n",
    "                      56,97,96,12,13,41,52,88,66,94,\n",
    "                      89,86,87,77,79,72,76]\n",
    "    input_data = pd.read_csv('MahjongScores.csv')\n",
    "\n",
    "    pairings_df = create_pairings_table(players_list)\n",
    "    matchups_df = create_freq_matchups(pairings_df, input_data)\n",
    "    \n",
    "    table_info = get_table_counts(players_list)\n",
    "    \n",
    "    output_tables = match_by_rating(table_counts, matchups_df)\n",
    "    \n",
    "    print output_tables"
   ]
  },
  {
   "cell_type": "code",
   "execution_count": 2,
   "metadata": {
    "collapsed": true
   },
   "outputs": [],
   "source": [
    "def get_player_data(input_data, players_list):\n",
    "    # Reduce input_data to only the rows relevant to today's players\n",
    "    games_rows = pd.DataFrame()\n",
    "    for i in players_list:\n",
    "        games_rows = games_rows.append(input_data.loc[(input_data['PlayerId'] == i)])\n",
    "    return games_rows"
   ]
  },
  {
   "cell_type": "code",
   "execution_count": 3,
   "metadata": {
    "collapsed": true
   },
   "outputs": [],
   "source": [
    "def get_table_counts(players_list):\n",
    "    # Determine amount of 5 person tables\n",
    "    if len(players_list) < 8:\n",
    "        total_tables = 1\n",
    "        if len(players_list) == 4:\n",
    "            tables_4p = 1\n",
    "            tables_5p = 0\n",
    "        elif len(players_list) == 5:\n",
    "            tables_4p = 0\n",
    "            tables_5p = 1\n",
    "        else:\n",
    "            tables_4p = tables_5p = 0\n",
    "    elif len(players_list) == 11:\n",
    "        total_tables = 2\n",
    "        tables_4p = tables_5p = 0\n",
    "    else:\n",
    "        tables_5p = len(players_list) % 4\n",
    "        total_tables = int( len(players_list) / 4)\n",
    "        tables_4p = total_tables - tables_5p\n",
    "    \n",
    "    table_counts = [total_tables, tables_4p, tables_5p]\n",
    "    \n",
    "    return table_counts"
   ]
  },
  {
   "cell_type": "code",
   "execution_count": 4,
   "metadata": {
    "collapsed": true
   },
   "outputs": [],
   "source": [
    "def create_pairings_table(players_list):\n",
    "    # Create a zeros DataFrame of (#players,#players) size for matchups, with ordered indices.\n",
    "    num_players = len(players_list)\n",
    "    pairings_df = DataFrame(np.zeros(num_players**2).reshape(num_players,num_players))\n",
    "    pairings_df.index = sorted(players_list)\n",
    "    pairings_df.columns = sorted(players_list)\n",
    "    return pairings_df"
   ]
  },
  {
   "cell_type": "code",
   "execution_count": 5,
   "metadata": {
    "collapsed": false
   },
   "outputs": [],
   "source": [
    "def create_freq_matchups(pairings_df, input_data):\n",
    "    # Grab today's players and initialize output df\n",
    "    players_list = pairings_df.columns\n",
    "    matchups_df = pairings_df.copy()\n",
    "        \n",
    "    # Pull all rows from input_data relevant to today's players\n",
    "    games_rows = get_player_data(input_data, players_list)\n",
    "    \n",
    "    # Make a list of unique games\n",
    "    uniquegames = games_rows['GameId'].unique()\n",
    "        \n",
    "    # Get all players in each relevant game and populate matchup table one game at a time\n",
    "    for gameid in uniquegames:\n",
    "        gameid_players = []\n",
    "        gameid_rows = games_rows.loc[(games_rows['GameId'] == gameid)] # Pull only the rows for players in that game\n",
    "        gameid_players = gameid_rows['PlayerId'].tolist() #Give each player an index\n",
    "        for i in range( len(gameid_players)): # For each player in a game\n",
    "            for j in range( len(gameid_players)): \n",
    "                matchups_df.at[gameid_players[i],gameid_players[j]] += 1 # Add a game in opponent's column\n",
    "    \n",
    "    # Diagonal values are total # of games played for that player\n",
    "    return matchups_df  "
   ]
  },
  {
   "cell_type": "code",
   "execution_count": 6,
   "metadata": {
    "collapsed": false,
    "scrolled": true
   },
   "outputs": [],
   "source": [
    "def create_score_matchups(pairings_df, input_data):\n",
    "    players_list = pairings_df.columns\n",
    "    games_rows = get_player_data(input_data, players_list)\n",
    "    matchups_df = pairings_df.copy()\n",
    "    \n",
    "    for gameid in games_rows['GameId'].unique():\n",
    "        # Pull rows for one game at a time\n",
    "        gameid_players = []\n",
    "        gameid_rows = games_rows.loc[(games_rows['GameId'] == gameid)]\n",
    "\n",
    "        # Paired scores and players have the same index\n",
    "        gameid_players = gameid_rows['PlayerId'].tolist()\n",
    "        gameid_scores = gameid_rows['Score'].tolist()\n",
    "\n",
    "        for i in range( len(gameid_players)): # For each player in that game\n",
    "            flag = False\n",
    "            for j in range( len(gameid_players)): # Get all players (including self)\n",
    "                # Don't add along diagonal more than once for each player\n",
    "                if (i == j):\n",
    "                    if flag == False: \n",
    "                        matchups_df.at[gameid_players[i],gameid_players[j]] += gameid_scores[i]\n",
    "                    flag = True\n",
    "                else:\n",
    "                    matchups_df.at[gameid_players[i],gameid_players[j]] += gameid_scores[i] # Add score of i to matchup sum\n",
    "    \n",
    "    freq_df = create_freq_matchups(pairings_df, input_data)\n",
    "    for i in range( len(players_list)):\n",
    "        for j in range( len(players_list)):\n",
    "            matchups_df.iat[i,j] = matchups_df.iat[i,j] / np.diagonal(freq_df)[j]\n",
    "    \n",
    "    # Diagonal values are player's average score            \n",
    "    return matchups_df"
   ]
  },
  {
   "cell_type": "code",
   "execution_count": 7,
   "metadata": {
    "collapsed": true
   },
   "outputs": [],
   "source": [
    "def sum_ratings(table_players, matchups_df):\n",
    "    table_sum = 0\n",
    "    for i in table_players:\n",
    "        for j in table_players:\n",
    "            if i>j: # This only serves to prevent repeats\n",
    "                table_sum += max(matchups_df.at[i,j],matchups_df.at[j,i])\n",
    "    return table_sum"
   ]
  },
  {
   "cell_type": "code",
   "execution_count": 8,
   "metadata": {
    "collapsed": false
   },
   "outputs": [],
   "source": [
    "def get_split_tables(table_counts, players_list):\n",
    "    tables_4p_made = 0\n",
    "    tables_5p_made = 0\n",
    "    split_tables = []\n",
    "    start = 0\n",
    "    end = 4\n",
    "    \n",
    "    if table_counts[1] > 0:\n",
    "        for i in range(table_counts[1]):\n",
    "            split_tables.append( players_list[start:end] )\n",
    "            tables_4p_made += 1\n",
    "            start += 4\n",
    "            end += 4\n",
    "    \n",
    "    end += 1\n",
    "    \n",
    "    if table_counts[2] > 0:\n",
    "        for i in range(table_counts[2]):\n",
    "            split_tables.append( players_list[start:end])\n",
    "            tables_5p_made += 1\n",
    "            start += 5\n",
    "            end += 5\n",
    "        \n",
    "    return split_tables"
   ]
  },
  {
   "cell_type": "code",
   "execution_count": 9,
   "metadata": {
    "collapsed": true
   },
   "outputs": [],
   "source": [
    "# Swaps 2 random entries in a list\n",
    "def swap_two(entrylist):\n",
    "    entrylist = entrylist[:]\n",
    "    a = random.randint(0, len(entrylist) - 1)\n",
    "    b = random.randint(0, len(entrylist) - 1)\n",
    "    entrylist[a], entrylist[b] = entrylist[b], entrylist[a]\n",
    "\n",
    "    return entrylist"
   ]
  },
  {
   "cell_type": "code",
   "execution_count": 10,
   "metadata": {
    "collapsed": false
   },
   "outputs": [],
   "source": [
    "# Matchmaking method: Generate tables via swapping individuals (n^2.5 iterations) - swaps within same tables sometimes\n",
    "\n",
    "def match_by_rating(table_counts, matchups_df):\n",
    "    players_list = list(matchups_df.columns) # Make a list of today's players\n",
    "    split_tables = get_split_tables(table_counts, players_list)\n",
    "    best_tables = split_tables\n",
    "    \n",
    "    for i in range(len(players_list)**2.5):\n",
    "        \n",
    "        # Calculate total table score\n",
    "        improved = 0\n",
    "        total_score = 0\n",
    "        for table in split_tables:\n",
    "            total_score += sum_ratings(table, matchups_df)\n",
    "\n",
    "        if (i == 0):\n",
    "            min_score = total_score\n",
    "        \n",
    "        # Save score if it's the best\n",
    "        if (total_score < min_score):\n",
    "            min_score = total_score\n",
    "            best_tables = split_tables\n",
    "            improved = 1\n",
    "        \n",
    "        # Use best set as basis if no improvement\n",
    "        if improved == 0:\n",
    "            split_tables = best_tables\n",
    "        \n",
    "        # Split and swap 2 players\n",
    "        unsplit_tables = []\n",
    "        for table in split_tables:\n",
    "            unsplit_tables += table\n",
    "        \n",
    "        unsplit_tables = swap_two(unsplit_tables)\n",
    "                \n",
    "        # Split back into tables\n",
    "        split_tables = get_split_tables(table_counts, unsplit_tables)\n",
    "        \n",
    "    return best_tables"
   ]
  }
 ],
 "metadata": {
  "kernelspec": {
   "display_name": "Python 2",
   "language": "python",
   "name": "python2"
  },
  "language_info": {
   "codemirror_mode": {
    "name": "ipython",
    "version": 2
   },
   "file_extension": ".py",
   "mimetype": "text/x-python",
   "name": "python",
   "nbconvert_exporter": "python",
   "pygments_lexer": "ipython2",
   "version": "2.7.10"
  }
 },
 "nbformat": 4,
 "nbformat_minor": 0
}
