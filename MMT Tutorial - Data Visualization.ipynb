{
 "cells": [
  {
   "cell_type": "code",
   "execution_count": 1,
   "metadata": {
    "collapsed": false
   },
   "outputs": [],
   "source": [
    "import numpy as np\n",
    "import pandas as pd\n",
    "from pandas import Series, DataFrame\n",
    "import itertools\n",
    "from itertools import combinations\n",
    "\n",
    "def main():\n",
    "    todays_players = [40,6,23,26,15,98,1,10,55,16,\n",
    "                      56,97,96,12,13,41,52,88,66,94,\n",
    "                      89,86,87,77,79,72,76]\n",
    "    input_data = pd.read_csv('MahjongScores.csv')\n",
    "\n",
    "    pairings_df = create_pairings_table(todays_players)\n",
    "    matchups_df = create_freq_matchups(pairings_df, input_data)\n",
    "    \n",
    "    table_info = get_table_info(todays_players)\n",
    "    \n",
    "    output_tables = generate_tables(table_info, matchups_df)\n",
    "    \n",
    "    print output_tables"
   ]
  },
  {
   "cell_type": "code",
   "execution_count": 2,
   "metadata": {
    "collapsed": true
   },
   "outputs": [],
   "source": [
    "def create_pairings_table(todays_players):\n",
    "    # Create a zeros DataFrame of (#players,#players) size for matchups, with ordered indices.\n",
    "    num_players = len(todays_players)\n",
    "    pairings_df = DataFrame(np.zeros(num_players**2).reshape(num_players,num_players))\n",
    "    pairings_df.index = sorted(todays_players)\n",
    "    pairings_df.columns = sorted(todays_players)\n",
    "    return pairings_df"
   ]
  },
  {
   "cell_type": "code",
   "execution_count": 3,
   "metadata": {
    "collapsed": true
   },
   "outputs": [],
   "source": [
    "def get_player_data(input_data, todays_players):\n",
    "    # Reduce input_data to only the rows relevant to today's players\n",
    "    games_rows = pd.DataFrame()\n",
    "    for i in todays_players:\n",
    "        games_rows = games_rows.append(input_data.loc[(input_data['PlayerId'] == i)])\n",
    "    return games_rows"
   ]
  },
  {
   "cell_type": "code",
   "execution_count": 4,
   "metadata": {
    "collapsed": false
   },
   "outputs": [],
   "source": [
    "def create_freq_matchups(pairings_df, input_data):\n",
    "    # Grab today's players and initialize output df\n",
    "    todays_players = pairings_df.columns\n",
    "    matchups_df = pairings_df.copy()\n",
    "        \n",
    "    # Pull all rows from input_data relevant to today's players\n",
    "    games_rows = get_player_data(input_data, todays_players)\n",
    "    \n",
    "    # Make a list of unique games\n",
    "    uniquegames = games_rows['GameId'].unique()\n",
    "        \n",
    "    # Get all players in each relevant game and populate matchup table one game at a time\n",
    "    for gameid in uniquegames:\n",
    "        gameid_players = []\n",
    "        gameid_rows = games_rows.loc[(games_rows['GameId'] == gameid)] # Pull only the rows for players in that game\n",
    "        gameid_players = gameid_rows['PlayerId'].tolist() #Give each player an index\n",
    "        for i in range( len(gameid_players)): # For each player in a game\n",
    "            for j in range( len(gameid_players)): \n",
    "                matchups_df.at[gameid_players[i],gameid_players[j]] += 1 # Add a game in opponent's column\n",
    "    \n",
    "    # Diagonal values are total # of games played for that player\n",
    "    return matchups_df  "
   ]
  },
  {
   "cell_type": "code",
   "execution_count": 5,
   "metadata": {
    "collapsed": false,
    "scrolled": true
   },
   "outputs": [],
   "source": [
    "def create_score_matchups(pairings_df, input_data):\n",
    "    todays_players = pairings_df.columns\n",
    "    games_rows = get_player_data(input_data, todays_players)\n",
    "    matchups_df = pairings_df.copy()\n",
    "    \n",
    "    for gameid in games_rows['GameId'].unique():\n",
    "        # Pull rows for one game at a time\n",
    "        gameid_players = []\n",
    "        gameid_rows = games_rows.loc[(games_rows['GameId'] == gameid)]\n",
    "\n",
    "        # Paired scores and players have the same index\n",
    "        gameid_players = gameid_rows['PlayerId'].tolist()\n",
    "        gameid_scores = gameid_rows['Score'].tolist()\n",
    "\n",
    "        for i in range( len(gameid_players)): # For each player in that game\n",
    "            flag = False\n",
    "            for j in range( len(gameid_players)): # Get all players (including self)\n",
    "                # Don't add along diagonal more than once for each player\n",
    "                if (i == j):\n",
    "                    if flag == False: \n",
    "                        matchups_df.at[gameid_players[i],gameid_players[j]] += gameid_scores[i]\n",
    "                    flag = True\n",
    "                else:\n",
    "                    matchups_df.at[gameid_players[i],gameid_players[j]] += gameid_scores[i] # Add score of i to matchup sum\n",
    "    \n",
    "    freq_df = create_freq_matchups(pairings_df, input_data)\n",
    "    for i in range( len(todays_players)):\n",
    "        for j in range( len(todays_players)):\n",
    "            matchups_df.iat[i,j] = matchups_df.iat[i,j] / np.diagonal(freq_df)[j]\n",
    "    \n",
    "    # Diagonal values are player's average score            \n",
    "    return matchups_df"
   ]
  },
  {
   "cell_type": "code",
   "execution_count": 6,
   "metadata": {
    "collapsed": true
   },
   "outputs": [],
   "source": [
    "def get_table_counts(todays_players):\n",
    "    # Determine amount of 5 person tables\n",
    "    if len(todays_players) < 8:\n",
    "        total_tables = 1\n",
    "        if len(todays_players) == 4:\n",
    "            tables_4p = 1\n",
    "            tables_5p = 0\n",
    "        elif len(todays_players) == 5:\n",
    "            tables_4p = 0\n",
    "            tables_5p = 1\n",
    "        else:\n",
    "            tables_4p = tables_5p = 0\n",
    "    else:\n",
    "        tables_5p = len(todays_players) % 4\n",
    "        total_tables = int( len(todays_players) / 4)\n",
    "        tables_4p = total_tables - tables_5p\n",
    "    \n",
    "    table_counts = [total_tables, tables_4p, tables_5p]\n",
    "    \n",
    "    return table_counts"
   ]
  },
  {
   "cell_type": "code",
   "execution_count": 7,
   "metadata": {
    "collapsed": true
   },
   "outputs": [],
   "source": [
    "def sum_ratings(table_players, matchups_df):\n",
    "    table_sum = 0\n",
    "    for i in table_players:\n",
    "        for j in table_players:\n",
    "            if i>j: # This only serves to prevent repeats\n",
    "                table_sum += max(matchups_df.at[i,j],matchups_df.at[j,i])\n",
    "    return table_sum"
   ]
  },
  {
   "cell_type": "code",
   "execution_count": 8,
   "metadata": {
    "collapsed": false
   },
   "outputs": [],
   "source": [
    "def generate_tables(table_types, matchups_df):\n",
    "    output_tables = []\n",
    "    total_tables = table_counts[0]\n",
    "    tables_4p = table_counts[1]\n",
    "    tables_5p = table_counts[2]\n",
    "    tables_5p_made = 0\n",
    "    temp_playerlist = list(matchups_df.columns) # Make a copy of today's players to modify\n",
    "    \n",
    "    # Make tables until all tables are made\n",
    "    while len(output_tables) < total_tables:\n",
    "    \n",
    "        # Make final table if only 4 players are in pool\n",
    "        if (len(temp_playerlist) == 4):\n",
    "            output_tables.append(tuple(temp_playerlist))\n",
    "            break\n",
    "    \n",
    "        # Generate list of combinations for table size\n",
    "        if tables_5p_made < tables_5p:\n",
    "            table_combs = list(itertools.combinations(temp_playerlist,5))\n",
    "            tables_5p_made += 1\n",
    "        else:\n",
    "            table_combs = list(itertools.combinations(temp_playerlist,4))\n",
    "\n",
    "        # Calculate matchmaking rating for each table (lower means players have fewer games together)\n",
    "        table_df = DataFrame(table_combs)\n",
    "        table_sums = table_df.apply(sum_ratings, args=[matchups_df], axis=1)    \n",
    "       \n",
    "        # Take first minimum value in table_sums - gives priority to lower PlayerId\n",
    "        best_table_ix = np.argmin(table_sums)\n",
    "        print table_sums[best_table_ix]\n",
    "        output_tables.append(table_combs[best_table_ix])\n",
    "    \n",
    "        # Remove players that have already been seated from the pool\n",
    "        for player in table_combs[best_table_ix]:\n",
    "            temp_playerlist.remove(player)\n",
    "    return output_tables"
   ]
  },
  {
   "cell_type": "markdown",
   "metadata": {
    "collapsed": false
   },
   "source": [
    "#Data visualization example with Mahjong Matchmaking Toolkit (MMT)\n",
    "#####Note: This library uses the following release versions:\n",
    "* [Python 2.7.2](https://www.python.org/download/releases/2.7.2/)\n",
    "* [Numpy 1.9.2](http://www.scipy.org/scipylib/download.html)\n",
    "* [Pandas 0.16.2](http://pypi.python.org/pypi/pandas/0.16.2/#downloads)\n",
    "\n",
    "One of many ways that MMT can make life easier for mahjong group coordinators is visualizing different aspects of the group. In this quick example, we will use MMT in conjunction with the [`matplotlib 1.4.3`](http://matplotlib.org/) and [`seaborn 0.6.0`](http://stanford.edu/~mwaskom/software/seaborn/) Python visualization libraries to see whether some players have winning or losing tendencies at a glance.\n",
    "\n",
    "Now, imagine being at the end of a long night of mahjong; 27 people showed up to play, and you simply want to take a look at how these people are doing against each other, without regard to players who didn't come today. We can accomplish this quickly by plotting a [**heatmap of player matchup scores**](#Plotting-the-heatmap) and a [**bar chart with each player's average rank**](#Plotting-the-bar-chart).\n",
    "\n",
    "####Supply input data \n",
    "First, let's make a `list` of players by using the ID numbers that each person was assigned when they joined our mahjong group. Because everyone was assigned a unique ID number, our schema fits perfectly into MMT's allowed `list` inputs for players:"
   ]
  },
  {
   "cell_type": "code",
   "execution_count": 20,
   "metadata": {
    "collapsed": false
   },
   "outputs": [
    {
     "name": "stdout",
     "output_type": "stream",
     "text": [
      "27\n"
     ]
    }
   ],
   "source": [
    "todays_players = [40,6,23,26,97,98,1,10,55,16,\n",
    "                  56,90,96,12,13,41,52,88,66,94,\n",
    "                  89,86,87,77,79,72,76]\n",
    "print len(todays_players)"
   ]
  },
  {
   "cell_type": "markdown",
   "metadata": {},
   "source": [
    "Next, we'll need to import our data. Pandas has multiple methods of importing to `DataFrame` objects, and while we import a `.csv` here, data can just as easily be pulled from a SQL query, from a saved Excel spreadsheet, or even from a dynamic online spreadsheet that gets populated by a form. Here, we import data for our mahjong play group from a `.csv` file that we created earlier, and assign it directly to a pandas `DataFrame` object with `pd.read_csv`. "
   ]
  },
  {
   "cell_type": "code",
   "execution_count": 25,
   "metadata": {
    "collapsed": false
   },
   "outputs": [],
   "source": [
    "input_data = pd.read_csv('MahjongScores.csv')"
   ]
  },
  {
   "cell_type": "markdown",
   "metadata": {},
   "source": [
    "To preview our data, we can call the pandas [`DataFrame.head()`](http://pandas.pydata.org/pandas-docs/stable/generated/pandas.DataFrame.head.html#pandas.DataFrame.head) method. When called with no arguments, it will return the first 5 rows:"
   ]
  },
  {
   "cell_type": "code",
   "execution_count": 24,
   "metadata": {
    "collapsed": false
   },
   "outputs": [
    {
     "name": "stdout",
     "output_type": "stream",
     "text": [
      "   ScoreId  GameId  PlayerId  Rank  RawScore  Score  Unnamed: 6\n",
      "0        1       1        23     1         0     38         NaN\n",
      "1        2       1        52     2         0     13         NaN\n",
      "2        3       1         6     3         0     -9         NaN\n",
      "3        4       1        98     4         0    -42         NaN\n",
      "4        5       2         6     1         0     30         NaN\n"
     ]
    }
   ],
   "source": [
    "input_data.head()"
   ]
  },
  {
   "cell_type": "markdown",
   "metadata": {},
   "source": [
    "Here we see that both the required columns `GameId` and `PlayerId` are present in `input_data`. As a result, we can continue without needing to change the format of the `DataFrame`.\n",
    " \n",
    "For the purpose of this visualization example, we import the `matplotlib` and `seaborn` libraries. This will allow us to plot the heatmap and bar chart:"
   ]
  },
  {
   "cell_type": "code",
   "execution_count": 11,
   "metadata": {
    "collapsed": false
   },
   "outputs": [],
   "source": [
    "import seaborn as sns\n",
    "import matplotlib.pyplot as plt\n",
    "\n",
    "# Call inline to view our plots directly\n",
    "%matplotlib inline"
   ]
  },
  {
   "cell_type": "markdown",
   "metadata": {},
   "source": [
    "####Generate matchup tables\n",
    "\n",
    "Since our first task is to produce a heatmap of matchup scores, we would like to make the matchups table via `create_score_matchups()`. This function takes two inputs: the first is a pairings `DataFrame` which we can generate with `create_pairings_table()`, and the second is our historical data, which we have already stored in `input_data`. Here, we store the pairings `DataFrame` as `pairings_df`:"
   ]
  },
  {
   "cell_type": "code",
   "execution_count": 26,
   "metadata": {
    "collapsed": false
   },
   "outputs": [
    {
     "data": {
      "text/html": [
       "<div>\n",
       "<table border=\"1\" class=\"dataframe\">\n",
       "  <thead>\n",
       "    <tr style=\"text-align: right;\">\n",
       "      <th></th>\n",
       "      <th>1</th>\n",
       "      <th>6</th>\n",
       "      <th>10</th>\n",
       "      <th>12</th>\n",
       "      <th>13</th>\n",
       "      <th>16</th>\n",
       "      <th>23</th>\n",
       "      <th>26</th>\n",
       "      <th>40</th>\n",
       "      <th>41</th>\n",
       "      <th>...</th>\n",
       "      <th>79</th>\n",
       "      <th>86</th>\n",
       "      <th>87</th>\n",
       "      <th>88</th>\n",
       "      <th>89</th>\n",
       "      <th>90</th>\n",
       "      <th>94</th>\n",
       "      <th>96</th>\n",
       "      <th>97</th>\n",
       "      <th>98</th>\n",
       "    </tr>\n",
       "  </thead>\n",
       "  <tbody>\n",
       "    <tr>\n",
       "      <th>1</th>\n",
       "      <td>0</td>\n",
       "      <td>0</td>\n",
       "      <td>0</td>\n",
       "      <td>0</td>\n",
       "      <td>0</td>\n",
       "      <td>0</td>\n",
       "      <td>0</td>\n",
       "      <td>0</td>\n",
       "      <td>0</td>\n",
       "      <td>0</td>\n",
       "      <td>...</td>\n",
       "      <td>0</td>\n",
       "      <td>0</td>\n",
       "      <td>0</td>\n",
       "      <td>0</td>\n",
       "      <td>0</td>\n",
       "      <td>0</td>\n",
       "      <td>0</td>\n",
       "      <td>0</td>\n",
       "      <td>0</td>\n",
       "      <td>0</td>\n",
       "    </tr>\n",
       "    <tr>\n",
       "      <th>6</th>\n",
       "      <td>0</td>\n",
       "      <td>0</td>\n",
       "      <td>0</td>\n",
       "      <td>0</td>\n",
       "      <td>0</td>\n",
       "      <td>0</td>\n",
       "      <td>0</td>\n",
       "      <td>0</td>\n",
       "      <td>0</td>\n",
       "      <td>0</td>\n",
       "      <td>...</td>\n",
       "      <td>0</td>\n",
       "      <td>0</td>\n",
       "      <td>0</td>\n",
       "      <td>0</td>\n",
       "      <td>0</td>\n",
       "      <td>0</td>\n",
       "      <td>0</td>\n",
       "      <td>0</td>\n",
       "      <td>0</td>\n",
       "      <td>0</td>\n",
       "    </tr>\n",
       "    <tr>\n",
       "      <th>10</th>\n",
       "      <td>0</td>\n",
       "      <td>0</td>\n",
       "      <td>0</td>\n",
       "      <td>0</td>\n",
       "      <td>0</td>\n",
       "      <td>0</td>\n",
       "      <td>0</td>\n",
       "      <td>0</td>\n",
       "      <td>0</td>\n",
       "      <td>0</td>\n",
       "      <td>...</td>\n",
       "      <td>0</td>\n",
       "      <td>0</td>\n",
       "      <td>0</td>\n",
       "      <td>0</td>\n",
       "      <td>0</td>\n",
       "      <td>0</td>\n",
       "      <td>0</td>\n",
       "      <td>0</td>\n",
       "      <td>0</td>\n",
       "      <td>0</td>\n",
       "    </tr>\n",
       "    <tr>\n",
       "      <th>12</th>\n",
       "      <td>0</td>\n",
       "      <td>0</td>\n",
       "      <td>0</td>\n",
       "      <td>0</td>\n",
       "      <td>0</td>\n",
       "      <td>0</td>\n",
       "      <td>0</td>\n",
       "      <td>0</td>\n",
       "      <td>0</td>\n",
       "      <td>0</td>\n",
       "      <td>...</td>\n",
       "      <td>0</td>\n",
       "      <td>0</td>\n",
       "      <td>0</td>\n",
       "      <td>0</td>\n",
       "      <td>0</td>\n",
       "      <td>0</td>\n",
       "      <td>0</td>\n",
       "      <td>0</td>\n",
       "      <td>0</td>\n",
       "      <td>0</td>\n",
       "    </tr>\n",
       "    <tr>\n",
       "      <th>13</th>\n",
       "      <td>0</td>\n",
       "      <td>0</td>\n",
       "      <td>0</td>\n",
       "      <td>0</td>\n",
       "      <td>0</td>\n",
       "      <td>0</td>\n",
       "      <td>0</td>\n",
       "      <td>0</td>\n",
       "      <td>0</td>\n",
       "      <td>0</td>\n",
       "      <td>...</td>\n",
       "      <td>0</td>\n",
       "      <td>0</td>\n",
       "      <td>0</td>\n",
       "      <td>0</td>\n",
       "      <td>0</td>\n",
       "      <td>0</td>\n",
       "      <td>0</td>\n",
       "      <td>0</td>\n",
       "      <td>0</td>\n",
       "      <td>0</td>\n",
       "    </tr>\n",
       "  </tbody>\n",
       "</table>\n",
       "<p>5 rows × 27 columns</p>\n",
       "</div>"
      ],
      "text/plain": [
       "    1   6   10  12  13  16  23  26  40  41 ...  79  86  87  88  89  90  94  \\\n",
       "1    0   0   0   0   0   0   0   0   0   0 ...   0   0   0   0   0   0   0   \n",
       "6    0   0   0   0   0   0   0   0   0   0 ...   0   0   0   0   0   0   0   \n",
       "10   0   0   0   0   0   0   0   0   0   0 ...   0   0   0   0   0   0   0   \n",
       "12   0   0   0   0   0   0   0   0   0   0 ...   0   0   0   0   0   0   0   \n",
       "13   0   0   0   0   0   0   0   0   0   0 ...   0   0   0   0   0   0   0   \n",
       "\n",
       "    96  97  98  \n",
       "1    0   0   0  \n",
       "6    0   0   0  \n",
       "10   0   0   0  \n",
       "12   0   0   0  \n",
       "13   0   0   0  \n",
       "\n",
       "[5 rows x 27 columns]"
      ]
     },
     "execution_count": 26,
     "metadata": {},
     "output_type": "execute_result"
    }
   ],
   "source": [
    "pairings_df = create_pairings_table(todays_players)\n",
    "pairings_df.head()"
   ]
  },
  {
   "cell_type": "markdown",
   "metadata": {},
   "source": [
    "Next, we'll store the result of calling `create_score_matchups()` with our newly made pairings `DataFrame` as an input:"
   ]
  },
  {
   "cell_type": "code",
   "execution_count": 13,
   "metadata": {
    "collapsed": false,
    "scrolled": true
   },
   "outputs": [
    {
     "data": {
      "text/html": [
       "<div>\n",
       "<table border=\"1\" class=\"dataframe\">\n",
       "  <thead>\n",
       "    <tr style=\"text-align: right;\">\n",
       "      <th></th>\n",
       "      <th>1</th>\n",
       "      <th>6</th>\n",
       "      <th>10</th>\n",
       "      <th>12</th>\n",
       "      <th>13</th>\n",
       "      <th>16</th>\n",
       "      <th>23</th>\n",
       "      <th>26</th>\n",
       "      <th>40</th>\n",
       "      <th>41</th>\n",
       "      <th>...</th>\n",
       "      <th>79</th>\n",
       "      <th>86</th>\n",
       "      <th>87</th>\n",
       "      <th>88</th>\n",
       "      <th>89</th>\n",
       "      <th>90</th>\n",
       "      <th>94</th>\n",
       "      <th>96</th>\n",
       "      <th>97</th>\n",
       "      <th>98</th>\n",
       "    </tr>\n",
       "  </thead>\n",
       "  <tbody>\n",
       "    <tr>\n",
       "      <th>1</th>\n",
       "      <td>-4.909091</td>\n",
       "      <td>-0.455882</td>\n",
       "      <td>2.363636</td>\n",
       "      <td>0.406250</td>\n",
       "      <td>0.000000</td>\n",
       "      <td>0.000000</td>\n",
       "      <td>0.000</td>\n",
       "      <td>0</td>\n",
       "      <td>0</td>\n",
       "      <td>0</td>\n",
       "      <td>...</td>\n",
       "      <td>0</td>\n",
       "      <td>0.0</td>\n",
       "      <td>0.000000</td>\n",
       "      <td>0</td>\n",
       "      <td>0.000000</td>\n",
       "      <td>0.000000</td>\n",
       "      <td>0</td>\n",
       "      <td>0</td>\n",
       "      <td>0</td>\n",
       "      <td>-0.030675</td>\n",
       "    </tr>\n",
       "    <tr>\n",
       "      <th>6</th>\n",
       "      <td>1.454545</td>\n",
       "      <td>6.470588</td>\n",
       "      <td>0.000000</td>\n",
       "      <td>0.812500</td>\n",
       "      <td>1.178571</td>\n",
       "      <td>-5.666667</td>\n",
       "      <td>-0.120</td>\n",
       "      <td>0</td>\n",
       "      <td>0</td>\n",
       "      <td>0</td>\n",
       "      <td>...</td>\n",
       "      <td>0</td>\n",
       "      <td>0.0</td>\n",
       "      <td>0.000000</td>\n",
       "      <td>0</td>\n",
       "      <td>2.583333</td>\n",
       "      <td>4.277778</td>\n",
       "      <td>0</td>\n",
       "      <td>0</td>\n",
       "      <td>0</td>\n",
       "      <td>0.079755</td>\n",
       "    </tr>\n",
       "    <tr>\n",
       "      <th>10</th>\n",
       "      <td>-1.000000</td>\n",
       "      <td>0.000000</td>\n",
       "      <td>-0.090909</td>\n",
       "      <td>-0.171875</td>\n",
       "      <td>0.000000</td>\n",
       "      <td>0.000000</td>\n",
       "      <td>-0.328</td>\n",
       "      <td>0</td>\n",
       "      <td>0</td>\n",
       "      <td>0</td>\n",
       "      <td>...</td>\n",
       "      <td>0</td>\n",
       "      <td>1.6</td>\n",
       "      <td>-12.333333</td>\n",
       "      <td>0</td>\n",
       "      <td>0.000000</td>\n",
       "      <td>0.000000</td>\n",
       "      <td>0</td>\n",
       "      <td>0</td>\n",
       "      <td>0</td>\n",
       "      <td>-0.165644</td>\n",
       "    </tr>\n",
       "    <tr>\n",
       "      <th>12</th>\n",
       "      <td>-2.636364</td>\n",
       "      <td>-1.514706</td>\n",
       "      <td>-2.636364</td>\n",
       "      <td>-9.625000</td>\n",
       "      <td>-2.678571</td>\n",
       "      <td>0.000000</td>\n",
       "      <td>-2.992</td>\n",
       "      <td>0</td>\n",
       "      <td>0</td>\n",
       "      <td>0</td>\n",
       "      <td>...</td>\n",
       "      <td>0</td>\n",
       "      <td>6.3</td>\n",
       "      <td>0.000000</td>\n",
       "      <td>8</td>\n",
       "      <td>0.583333</td>\n",
       "      <td>0.000000</td>\n",
       "      <td>0</td>\n",
       "      <td>0</td>\n",
       "      <td>0</td>\n",
       "      <td>-1.668712</td>\n",
       "    </tr>\n",
       "    <tr>\n",
       "      <th>13</th>\n",
       "      <td>0.000000</td>\n",
       "      <td>-0.705882</td>\n",
       "      <td>0.000000</td>\n",
       "      <td>1.187500</td>\n",
       "      <td>6.821429</td>\n",
       "      <td>2.333333</td>\n",
       "      <td>-0.120</td>\n",
       "      <td>0</td>\n",
       "      <td>0</td>\n",
       "      <td>0</td>\n",
       "      <td>...</td>\n",
       "      <td>0</td>\n",
       "      <td>3.9</td>\n",
       "      <td>0.000000</td>\n",
       "      <td>0</td>\n",
       "      <td>0.000000</td>\n",
       "      <td>-2.666667</td>\n",
       "      <td>0</td>\n",
       "      <td>0</td>\n",
       "      <td>0</td>\n",
       "      <td>0.337423</td>\n",
       "    </tr>\n",
       "  </tbody>\n",
       "</table>\n",
       "<p>5 rows × 27 columns</p>\n",
       "</div>"
      ],
      "text/plain": [
       "          1         6         10        12        13        16     23  26  40  \\\n",
       "1  -4.909091 -0.455882  2.363636  0.406250  0.000000  0.000000  0.000   0   0   \n",
       "6   1.454545  6.470588  0.000000  0.812500  1.178571 -5.666667 -0.120   0   0   \n",
       "10 -1.000000  0.000000 -0.090909 -0.171875  0.000000  0.000000 -0.328   0   0   \n",
       "12 -2.636364 -1.514706 -2.636364 -9.625000 -2.678571  0.000000 -2.992   0   0   \n",
       "13  0.000000 -0.705882  0.000000  1.187500  6.821429  2.333333 -0.120   0   0   \n",
       "\n",
       "    41    ...     79   86         87  88        89        90  94  96  97  \\\n",
       "1    0    ...      0  0.0   0.000000   0  0.000000  0.000000   0   0   0   \n",
       "6    0    ...      0  0.0   0.000000   0  2.583333  4.277778   0   0   0   \n",
       "10   0    ...      0  1.6 -12.333333   0  0.000000  0.000000   0   0   0   \n",
       "12   0    ...      0  6.3   0.000000   8  0.583333  0.000000   0   0   0   \n",
       "13   0    ...      0  3.9   0.000000   0  0.000000 -2.666667   0   0   0   \n",
       "\n",
       "          98  \n",
       "1  -0.030675  \n",
       "6   0.079755  \n",
       "10 -0.165644  \n",
       "12 -1.668712  \n",
       "13  0.337423  \n",
       "\n",
       "[5 rows x 27 columns]"
      ]
     },
     "execution_count": 13,
     "metadata": {},
     "output_type": "execute_result"
    }
   ],
   "source": [
    "score_matchups = create_score_matchups(pairings_df, input_data)\n",
    "score_matchups.head()"
   ]
  },
  {
   "cell_type": "markdown",
   "metadata": {},
   "source": [
    "####Plotting the heatmap\n",
    "At this point, we're ready to plot our heatmap, and all that's needed is formatting for the plot itself. Since we're looking at positive and negative scores, it makes sense to use a [diverging color palette](http://stanford.edu/~mwaskom/software/seaborn/tutorial/color_palettes.html?highlight=diverging%20palette). While these are customizable, we will just use a blue-white-red colormap that is already included in the seaborn library. To plot the actual heatmap, we call [`sns.heatmap()`](http://stanford.edu/~mwaskom/software/seaborn/generated/seaborn.heatmap.html) using `score_matchups` as the data, and use a few other arguments such as to make the heatmap a bit cleaner:"
   ]
  },
  {
   "cell_type": "code",
   "execution_count": 31,
   "metadata": {
    "collapsed": false
   },
   "outputs": [
    {
     "data": {
      "image/png": "[encoded data removed]",
      "text/plain": [
       "<matplotlib.figure.Figure at 0x1fa38588>"
      ]
     },
     "metadata": {},
     "output_type": "display_data"
    }
   ],
   "source": [
    "# Plot a heatmap of matchups, where diagonal is player personal average\n",
    "plt.figure(figsize=(15,10))\n",
    "ax = sns.heatmap(score_matchups, cmap='bwr_r', square=True, vmin=-45, vmax=45)\n",
    "ax.xaxis.tick_top()"
   ]
  },
  {
   "cell_type": "markdown",
   "metadata": {},
   "source": [
    "You can see here that player 52 tends to do well against players 40, 72, and 94, but poorly against players 79 and 97. In this heatmap, we can also qualitatively gauge each player's personal average score by looking at whether their position on the diagonal is blue or red. As a result, we can see that player 97 has the highest average score of everybody in today's player pool. While this might otherwise take some time to determine, MMT makes the data extraction easy. "
   ]
  },
  {
   "cell_type": "markdown",
   "metadata": {},
   "source": [
    "####Getting a subset of player data\n",
    "Next, we'll work on making our bar chart of average rank. For this, we're going to have average rank as the y-axis, and `PlayerId` as the x-axis. To put our data into this format, we'll do some straightforward manipulation of our input data. To begin with, let's call `get_player_data()` to reduce our input data to only the players from tonight:"
   ]
  },
  {
   "cell_type": "code",
   "execution_count": 16,
   "metadata": {
    "collapsed": false
   },
   "outputs": [
    {
     "data": {
      "text/html": [
       "<div>\n",
       "<table border=\"1\" class=\"dataframe\">\n",
       "  <thead>\n",
       "    <tr style=\"text-align: right;\">\n",
       "      <th></th>\n",
       "      <th>ScoreId</th>\n",
       "      <th>GameId</th>\n",
       "      <th>PlayerId</th>\n",
       "      <th>Rank</th>\n",
       "      <th>RawScore</th>\n",
       "      <th>Score</th>\n",
       "      <th>Unnamed: 6</th>\n",
       "    </tr>\n",
       "  </thead>\n",
       "  <tbody>\n",
       "    <tr>\n",
       "      <th>647</th>\n",
       "      <td>648</td>\n",
       "      <td>150</td>\n",
       "      <td>40</td>\n",
       "      <td>4</td>\n",
       "      <td>0</td>\n",
       "      <td>-31</td>\n",
       "      <td>NaN</td>\n",
       "    </tr>\n",
       "    <tr>\n",
       "      <th>2</th>\n",
       "      <td>3</td>\n",
       "      <td>1</td>\n",
       "      <td>6</td>\n",
       "      <td>3</td>\n",
       "      <td>0</td>\n",
       "      <td>-9</td>\n",
       "      <td>NaN</td>\n",
       "    </tr>\n",
       "    <tr>\n",
       "      <th>4</th>\n",
       "      <td>5</td>\n",
       "      <td>2</td>\n",
       "      <td>6</td>\n",
       "      <td>1</td>\n",
       "      <td>0</td>\n",
       "      <td>30</td>\n",
       "      <td>NaN</td>\n",
       "    </tr>\n",
       "    <tr>\n",
       "      <th>9</th>\n",
       "      <td>10</td>\n",
       "      <td>3</td>\n",
       "      <td>6</td>\n",
       "      <td>2</td>\n",
       "      <td>0</td>\n",
       "      <td>14</td>\n",
       "      <td>NaN</td>\n",
       "    </tr>\n",
       "    <tr>\n",
       "      <th>15</th>\n",
       "      <td>16</td>\n",
       "      <td>4</td>\n",
       "      <td>6</td>\n",
       "      <td>4</td>\n",
       "      <td>0</td>\n",
       "      <td>-29</td>\n",
       "      <td>NaN</td>\n",
       "    </tr>\n",
       "  </tbody>\n",
       "</table>\n",
       "</div>"
      ],
      "text/plain": [
       "     ScoreId  GameId  PlayerId  Rank  RawScore  Score  Unnamed: 6\n",
       "647      648     150        40     4         0    -31         NaN\n",
       "2          3       1         6     3         0     -9         NaN\n",
       "4          5       2         6     1         0     30         NaN\n",
       "9         10       3         6     2         0     14         NaN\n",
       "15        16       4         6     4         0    -29         NaN"
      ]
     },
     "execution_count": 16,
     "metadata": {},
     "output_type": "execute_result"
    }
   ],
   "source": [
    "players_data = get_player_data(input_data, todays_players)\n",
    "players_data.head()"
   ]
  },
  {
   "cell_type": "markdown",
   "metadata": {},
   "source": [
    "Since we want to get aggregate data (e.g. mean, standard deviation) on each player's ranking history, we can simplify the task by using [`DataFrame.groupby()`](http://pandas.pydata.org/pandas-docs/stable/generated/pandas.DataFrame.groupby.html). Here, we group the `Rank` data by `GameId` and `PlayerId`. This allows us to later access `Rank` values by supplying the `(GameId, PlayerId)` tuple."
   ]
  },
  {
   "cell_type": "code",
   "execution_count": 17,
   "metadata": {
    "collapsed": false
   },
   "outputs": [],
   "source": [
    "# Group games_rows by GameId and PlayerId to access multiple row values at once\n",
    "grouped_ranks = players_data['Rank'].groupby([players_data['GameId'], players_data['PlayerId']])"
   ]
  },
  {
   "cell_type": "markdown",
   "metadata": {},
   "source": [
    "Next, we'll initialize a `DataFrame` to store this data in a more readable format. We want our `DataFrame` to have all player `Rank` values in one row for each unique `GameId`. Here, we initialize the `DataFrame` with null values instead of zeros so that our aggregate data isn't affected:"
   ]
  },
  {
   "cell_type": "code",
   "execution_count": 18,
   "metadata": {
    "collapsed": false
   },
   "outputs": [
    {
     "data": {
      "text/html": [
       "<div>\n",
       "<table border=\"1\" class=\"dataframe\">\n",
       "  <thead>\n",
       "    <tr style=\"text-align: right;\">\n",
       "      <th></th>\n",
       "      <th>GameId</th>\n",
       "      <th>40</th>\n",
       "      <th>6</th>\n",
       "      <th>23</th>\n",
       "      <th>26</th>\n",
       "      <th>97</th>\n",
       "      <th>98</th>\n",
       "      <th>1</th>\n",
       "      <th>10</th>\n",
       "      <th>55</th>\n",
       "      <th>...</th>\n",
       "      <th>88</th>\n",
       "      <th>66</th>\n",
       "      <th>94</th>\n",
       "      <th>89</th>\n",
       "      <th>86</th>\n",
       "      <th>87</th>\n",
       "      <th>77</th>\n",
       "      <th>79</th>\n",
       "      <th>72</th>\n",
       "      <th>76</th>\n",
       "    </tr>\n",
       "  </thead>\n",
       "  <tbody>\n",
       "    <tr>\n",
       "      <th>0</th>\n",
       "      <td>1</td>\n",
       "      <td>NaN</td>\n",
       "      <td>NaN</td>\n",
       "      <td>NaN</td>\n",
       "      <td>NaN</td>\n",
       "      <td>NaN</td>\n",
       "      <td>NaN</td>\n",
       "      <td>NaN</td>\n",
       "      <td>NaN</td>\n",
       "      <td>NaN</td>\n",
       "      <td>...</td>\n",
       "      <td>NaN</td>\n",
       "      <td>NaN</td>\n",
       "      <td>NaN</td>\n",
       "      <td>NaN</td>\n",
       "      <td>NaN</td>\n",
       "      <td>NaN</td>\n",
       "      <td>NaN</td>\n",
       "      <td>NaN</td>\n",
       "      <td>NaN</td>\n",
       "      <td>NaN</td>\n",
       "    </tr>\n",
       "    <tr>\n",
       "      <th>1</th>\n",
       "      <td>2</td>\n",
       "      <td>NaN</td>\n",
       "      <td>NaN</td>\n",
       "      <td>NaN</td>\n",
       "      <td>NaN</td>\n",
       "      <td>NaN</td>\n",
       "      <td>NaN</td>\n",
       "      <td>NaN</td>\n",
       "      <td>NaN</td>\n",
       "      <td>NaN</td>\n",
       "      <td>...</td>\n",
       "      <td>NaN</td>\n",
       "      <td>NaN</td>\n",
       "      <td>NaN</td>\n",
       "      <td>NaN</td>\n",
       "      <td>NaN</td>\n",
       "      <td>NaN</td>\n",
       "      <td>NaN</td>\n",
       "      <td>NaN</td>\n",
       "      <td>NaN</td>\n",
       "      <td>NaN</td>\n",
       "    </tr>\n",
       "    <tr>\n",
       "      <th>2</th>\n",
       "      <td>3</td>\n",
       "      <td>NaN</td>\n",
       "      <td>NaN</td>\n",
       "      <td>NaN</td>\n",
       "      <td>NaN</td>\n",
       "      <td>NaN</td>\n",
       "      <td>NaN</td>\n",
       "      <td>NaN</td>\n",
       "      <td>NaN</td>\n",
       "      <td>NaN</td>\n",
       "      <td>...</td>\n",
       "      <td>NaN</td>\n",
       "      <td>NaN</td>\n",
       "      <td>NaN</td>\n",
       "      <td>NaN</td>\n",
       "      <td>NaN</td>\n",
       "      <td>NaN</td>\n",
       "      <td>NaN</td>\n",
       "      <td>NaN</td>\n",
       "      <td>NaN</td>\n",
       "      <td>NaN</td>\n",
       "    </tr>\n",
       "    <tr>\n",
       "      <th>3</th>\n",
       "      <td>4</td>\n",
       "      <td>NaN</td>\n",
       "      <td>NaN</td>\n",
       "      <td>NaN</td>\n",
       "      <td>NaN</td>\n",
       "      <td>NaN</td>\n",
       "      <td>NaN</td>\n",
       "      <td>NaN</td>\n",
       "      <td>NaN</td>\n",
       "      <td>NaN</td>\n",
       "      <td>...</td>\n",
       "      <td>NaN</td>\n",
       "      <td>NaN</td>\n",
       "      <td>NaN</td>\n",
       "      <td>NaN</td>\n",
       "      <td>NaN</td>\n",
       "      <td>NaN</td>\n",
       "      <td>NaN</td>\n",
       "      <td>NaN</td>\n",
       "      <td>NaN</td>\n",
       "      <td>NaN</td>\n",
       "    </tr>\n",
       "    <tr>\n",
       "      <th>4</th>\n",
       "      <td>5</td>\n",
       "      <td>NaN</td>\n",
       "      <td>NaN</td>\n",
       "      <td>NaN</td>\n",
       "      <td>NaN</td>\n",
       "      <td>NaN</td>\n",
       "      <td>NaN</td>\n",
       "      <td>NaN</td>\n",
       "      <td>NaN</td>\n",
       "      <td>NaN</td>\n",
       "      <td>...</td>\n",
       "      <td>NaN</td>\n",
       "      <td>NaN</td>\n",
       "      <td>NaN</td>\n",
       "      <td>NaN</td>\n",
       "      <td>NaN</td>\n",
       "      <td>NaN</td>\n",
       "      <td>NaN</td>\n",
       "      <td>NaN</td>\n",
       "      <td>NaN</td>\n",
       "      <td>NaN</td>\n",
       "    </tr>\n",
       "  </tbody>\n",
       "</table>\n",
       "<p>5 rows × 28 columns</p>\n",
       "</div>"
      ],
      "text/plain": [
       "   GameId  40   6  23  26  97  98   1  10  55 ...  88  66  94  89  86  87  77  \\\n",
       "0       1 NaN NaN NaN NaN NaN NaN NaN NaN NaN ... NaN NaN NaN NaN NaN NaN NaN   \n",
       "1       2 NaN NaN NaN NaN NaN NaN NaN NaN NaN ... NaN NaN NaN NaN NaN NaN NaN   \n",
       "2       3 NaN NaN NaN NaN NaN NaN NaN NaN NaN ... NaN NaN NaN NaN NaN NaN NaN   \n",
       "3       4 NaN NaN NaN NaN NaN NaN NaN NaN NaN ... NaN NaN NaN NaN NaN NaN NaN   \n",
       "4       5 NaN NaN NaN NaN NaN NaN NaN NaN NaN ... NaN NaN NaN NaN NaN NaN NaN   \n",
       "\n",
       "   79  72  76  \n",
       "0 NaN NaN NaN  \n",
       "1 NaN NaN NaN  \n",
       "2 NaN NaN NaN  \n",
       "3 NaN NaN NaN  \n",
       "4 NaN NaN NaN  \n",
       "\n",
       "[5 rows x 28 columns]"
      ]
     },
     "execution_count": 18,
     "metadata": {},
     "output_type": "execute_result"
    }
   ],
   "source": [
    "ranks_table = DataFrame()\n",
    "ranks_table['GameId'] = np.sort(players_data['GameId'].unique()) # Create a GameId column with only one of each Id\n",
    "\n",
    "# Create a new column for each player\n",
    "for playerid in todays_players: \n",
    "    ranks_table[playerid] = np.nan \n",
    "ranks_table.head()"
   ]
  },
  {
   "cell_type": "markdown",
   "metadata": {},
   "source": [
    "We'll then populate these columns with each player's scores, using the `groupby` object `grouped_ranks` we made earlier. Here, we iterate through each combination of the tuple `(game, player)` and take the corresponding `rank` value. The value is then assigned to the row-column pair that corresponds to the tuple:"
   ]
  },
  {
   "cell_type": "code",
   "execution_count": 19,
   "metadata": {
    "collapsed": false,
    "scrolled": true
   },
   "outputs": [
    {
     "data": {
      "text/html": [
       "<div>\n",
       "<table border=\"1\" class=\"dataframe\">\n",
       "  <thead>\n",
       "    <tr style=\"text-align: right;\">\n",
       "      <th></th>\n",
       "      <th>GameId</th>\n",
       "      <th>40</th>\n",
       "      <th>6</th>\n",
       "      <th>23</th>\n",
       "      <th>26</th>\n",
       "      <th>97</th>\n",
       "      <th>98</th>\n",
       "      <th>1</th>\n",
       "      <th>10</th>\n",
       "      <th>55</th>\n",
       "      <th>...</th>\n",
       "      <th>88</th>\n",
       "      <th>66</th>\n",
       "      <th>94</th>\n",
       "      <th>89</th>\n",
       "      <th>86</th>\n",
       "      <th>87</th>\n",
       "      <th>77</th>\n",
       "      <th>79</th>\n",
       "      <th>72</th>\n",
       "      <th>76</th>\n",
       "    </tr>\n",
       "  </thead>\n",
       "  <tbody>\n",
       "    <tr>\n",
       "      <th>0</th>\n",
       "      <td>1</td>\n",
       "      <td>NaN</td>\n",
       "      <td>3</td>\n",
       "      <td>1</td>\n",
       "      <td>NaN</td>\n",
       "      <td>NaN</td>\n",
       "      <td>4</td>\n",
       "      <td>NaN</td>\n",
       "      <td>NaN</td>\n",
       "      <td>NaN</td>\n",
       "      <td>...</td>\n",
       "      <td>NaN</td>\n",
       "      <td>NaN</td>\n",
       "      <td>NaN</td>\n",
       "      <td>NaN</td>\n",
       "      <td>NaN</td>\n",
       "      <td>NaN</td>\n",
       "      <td>NaN</td>\n",
       "      <td>NaN</td>\n",
       "      <td>NaN</td>\n",
       "      <td>NaN</td>\n",
       "    </tr>\n",
       "    <tr>\n",
       "      <th>1</th>\n",
       "      <td>2</td>\n",
       "      <td>NaN</td>\n",
       "      <td>1</td>\n",
       "      <td>NaN</td>\n",
       "      <td>NaN</td>\n",
       "      <td>NaN</td>\n",
       "      <td>2</td>\n",
       "      <td>NaN</td>\n",
       "      <td>NaN</td>\n",
       "      <td>NaN</td>\n",
       "      <td>...</td>\n",
       "      <td>NaN</td>\n",
       "      <td>3</td>\n",
       "      <td>NaN</td>\n",
       "      <td>NaN</td>\n",
       "      <td>NaN</td>\n",
       "      <td>NaN</td>\n",
       "      <td>NaN</td>\n",
       "      <td>NaN</td>\n",
       "      <td>NaN</td>\n",
       "      <td>NaN</td>\n",
       "    </tr>\n",
       "    <tr>\n",
       "      <th>2</th>\n",
       "      <td>3</td>\n",
       "      <td>NaN</td>\n",
       "      <td>2</td>\n",
       "      <td>NaN</td>\n",
       "      <td>NaN</td>\n",
       "      <td>NaN</td>\n",
       "      <td>3</td>\n",
       "      <td>NaN</td>\n",
       "      <td>NaN</td>\n",
       "      <td>NaN</td>\n",
       "      <td>...</td>\n",
       "      <td>NaN</td>\n",
       "      <td>1</td>\n",
       "      <td>NaN</td>\n",
       "      <td>NaN</td>\n",
       "      <td>NaN</td>\n",
       "      <td>NaN</td>\n",
       "      <td>NaN</td>\n",
       "      <td>NaN</td>\n",
       "      <td>NaN</td>\n",
       "      <td>NaN</td>\n",
       "    </tr>\n",
       "    <tr>\n",
       "      <th>3</th>\n",
       "      <td>4</td>\n",
       "      <td>NaN</td>\n",
       "      <td>4</td>\n",
       "      <td>NaN</td>\n",
       "      <td>NaN</td>\n",
       "      <td>NaN</td>\n",
       "      <td>1</td>\n",
       "      <td>NaN</td>\n",
       "      <td>NaN</td>\n",
       "      <td>NaN</td>\n",
       "      <td>...</td>\n",
       "      <td>NaN</td>\n",
       "      <td>2</td>\n",
       "      <td>NaN</td>\n",
       "      <td>NaN</td>\n",
       "      <td>NaN</td>\n",
       "      <td>NaN</td>\n",
       "      <td>NaN</td>\n",
       "      <td>NaN</td>\n",
       "      <td>NaN</td>\n",
       "      <td>NaN</td>\n",
       "    </tr>\n",
       "    <tr>\n",
       "      <th>4</th>\n",
       "      <td>5</td>\n",
       "      <td>NaN</td>\n",
       "      <td>3</td>\n",
       "      <td>2</td>\n",
       "      <td>NaN</td>\n",
       "      <td>NaN</td>\n",
       "      <td>4</td>\n",
       "      <td>NaN</td>\n",
       "      <td>NaN</td>\n",
       "      <td>NaN</td>\n",
       "      <td>...</td>\n",
       "      <td>NaN</td>\n",
       "      <td>NaN</td>\n",
       "      <td>NaN</td>\n",
       "      <td>NaN</td>\n",
       "      <td>NaN</td>\n",
       "      <td>NaN</td>\n",
       "      <td>NaN</td>\n",
       "      <td>NaN</td>\n",
       "      <td>NaN</td>\n",
       "      <td>NaN</td>\n",
       "    </tr>\n",
       "  </tbody>\n",
       "</table>\n",
       "<p>5 rows × 28 columns</p>\n",
       "</div>"
      ],
      "text/plain": [
       "   GameId  40  6  23  26  97  98   1  10  55 ...  88  66  94  89  86  87  77  \\\n",
       "0       1 NaN  3   1 NaN NaN   4 NaN NaN NaN ... NaN NaN NaN NaN NaN NaN NaN   \n",
       "1       2 NaN  1 NaN NaN NaN   2 NaN NaN NaN ... NaN   3 NaN NaN NaN NaN NaN   \n",
       "2       3 NaN  2 NaN NaN NaN   3 NaN NaN NaN ... NaN   1 NaN NaN NaN NaN NaN   \n",
       "3       4 NaN  4 NaN NaN NaN   1 NaN NaN NaN ... NaN   2 NaN NaN NaN NaN NaN   \n",
       "4       5 NaN  3   2 NaN NaN   4 NaN NaN NaN ... NaN NaN NaN NaN NaN NaN NaN   \n",
       "\n",
       "   79  72  76  \n",
       "0 NaN NaN NaN  \n",
       "1 NaN NaN NaN  \n",
       "2 NaN NaN NaN  \n",
       "3 NaN NaN NaN  \n",
       "4 NaN NaN NaN  \n",
       "\n",
       "[5 rows x 28 columns]"
      ]
     },
     "execution_count": 19,
     "metadata": {},
     "output_type": "execute_result"
    }
   ],
   "source": [
    "# Populate columns with each player's scores\n",
    "for (game, player), rank in grouped_ranks:\n",
    "    ranks_table.loc[ranks_table['GameId'] == game, player] = rank.iloc[0]\n",
    "ranks_table.head()"
   ]
  },
  {
   "cell_type": "markdown",
   "metadata": {},
   "source": [
    "####Obtaining aggregate data\n",
    "From here, we can use the [`DataFrame.describe()`](http://pandas.pydata.org/pandas-docs/stable/generated/pandas.DataFrame.describe.html?highlight=describe#pandas.DataFrame.describe) function to generate aggregate data for each of our players. Because the pandas `DataFrame` object does not have a one-step method for sorting based on values in rows, we then transpose it to simplify the sorting process:"
   ]
  },
  {
   "cell_type": "code",
   "execution_count": 20,
   "metadata": {
    "collapsed": false,
    "scrolled": true
   },
   "outputs": [
    {
     "data": {
      "text/html": [
       "<div>\n",
       "<table border=\"1\" class=\"dataframe\">\n",
       "  <thead>\n",
       "    <tr style=\"text-align: right;\">\n",
       "      <th></th>\n",
       "      <th>count</th>\n",
       "      <th>mean</th>\n",
       "      <th>std</th>\n",
       "      <th>min</th>\n",
       "      <th>25%</th>\n",
       "      <th>50%</th>\n",
       "      <th>75%</th>\n",
       "      <th>max</th>\n",
       "    </tr>\n",
       "  </thead>\n",
       "  <tbody>\n",
       "    <tr>\n",
       "      <th>GameId</th>\n",
       "      <td>504</td>\n",
       "      <td>276.972222</td>\n",
       "      <td>169.509699</td>\n",
       "      <td>1</td>\n",
       "      <td>127.75</td>\n",
       "      <td>266.5</td>\n",
       "      <td>426.50</td>\n",
       "      <td>585</td>\n",
       "    </tr>\n",
       "    <tr>\n",
       "      <th>40</th>\n",
       "      <td>1</td>\n",
       "      <td>4.000000</td>\n",
       "      <td>NaN</td>\n",
       "      <td>4</td>\n",
       "      <td>4.00</td>\n",
       "      <td>4.0</td>\n",
       "      <td>4.00</td>\n",
       "      <td>4</td>\n",
       "    </tr>\n",
       "    <tr>\n",
       "      <th>6</th>\n",
       "      <td>68</td>\n",
       "      <td>2.411765</td>\n",
       "      <td>1.260600</td>\n",
       "      <td>1</td>\n",
       "      <td>1.00</td>\n",
       "      <td>2.0</td>\n",
       "      <td>3.25</td>\n",
       "      <td>5</td>\n",
       "    </tr>\n",
       "    <tr>\n",
       "      <th>23</th>\n",
       "      <td>125</td>\n",
       "      <td>2.696000</td>\n",
       "      <td>1.130401</td>\n",
       "      <td>1</td>\n",
       "      <td>2.00</td>\n",
       "      <td>3.0</td>\n",
       "      <td>4.00</td>\n",
       "      <td>5</td>\n",
       "    </tr>\n",
       "    <tr>\n",
       "      <th>26</th>\n",
       "      <td>4</td>\n",
       "      <td>3.500000</td>\n",
       "      <td>0.577350</td>\n",
       "      <td>3</td>\n",
       "      <td>3.00</td>\n",
       "      <td>3.5</td>\n",
       "      <td>4.00</td>\n",
       "      <td>4</td>\n",
       "    </tr>\n",
       "  </tbody>\n",
       "</table>\n",
       "</div>"
      ],
      "text/plain": [
       "        count        mean         std  min     25%    50%     75%  max\n",
       "GameId    504  276.972222  169.509699    1  127.75  266.5  426.50  585\n",
       "40          1    4.000000         NaN    4    4.00    4.0    4.00    4\n",
       "6          68    2.411765    1.260600    1    1.00    2.0    3.25    5\n",
       "23        125    2.696000    1.130401    1    2.00    3.0    4.00    5\n",
       "26          4    3.500000    0.577350    3    3.00    3.5    4.00    4"
      ]
     },
     "execution_count": 20,
     "metadata": {},
     "output_type": "execute_result"
    }
   ],
   "source": [
    "rank_info = ranks_table.describe().transpose()\n",
    "rank_info.head()"
   ]
  },
  {
   "cell_type": "markdown",
   "metadata": {},
   "source": [
    "####Plotting the bar chart\n",
    "Now that we are close to making our plot, we'll remove the `GameId` row and sort our `DataFrame` by the values of `'mean'` for visual clarity. Also, we'll only keep the columns that contain the mean and the standard deviation:"
   ]
  },
  {
   "cell_type": "code",
   "execution_count": 21,
   "metadata": {
    "collapsed": false
   },
   "outputs": [],
   "source": [
    "rank_info.drop('GameId', inplace=True)\n",
    "rank_info.sort(columns='mean', inplace=True)\n",
    "rank_info = rank_info[['mean','std']]"
   ]
  },
  {
   "cell_type": "markdown",
   "metadata": {},
   "source": [
    "At this point, all that remains is the plotting itself. We'll use [`matplotlib.pyplot.plot()`](http://matplotlib.org/api/pyplot_api.html) to draw each player's average rank in a bar chart, and use the error bars argument to draw our standard deviations:"
   ]
  },
  {
   "cell_type": "code",
   "execution_count": 23,
   "metadata": {
    "collapsed": false
   },
   "outputs": [
    {
     "data": {
      "text/plain": [
       "<matplotlib.axes._subplots.AxesSubplot at 0x1f8df0f0>"
      ]
     },
     "execution_count": 23,
     "metadata": {},
     "output_type": "execute_result"
    },
    {
     "data": {
      "image/png": "[encoded data removed]",
      "text/plain": [
       "<matplotlib.figure.Figure at 0x1f0e8208>"
      ]
     },
     "metadata": {},
     "output_type": "display_data"
    }
   ],
   "source": [
    "rank_info['mean'].plot(yerr=rank_info['std'], kind='bar', figsize=(15,6))"
   ]
  },
  {
   "cell_type": "markdown",
   "metadata": {
    "collapsed": true
   },
   "source": [
    "For players in our group that have played more than one game (ones with error bars), we see that player 76 has had the highest average rank. By using MMT to manipulate player data and to help create visualizations, we find evidence that differences in skill exist within the group."
   ]
  }
 ],
 "metadata": {
  "kernelspec": {
   "display_name": "Python 2",
   "language": "python",
   "name": "python2"
  },
  "language_info": {
   "codemirror_mode": {
    "name": "ipython",
    "version": 2
   },
   "file_extension": ".py",
   "mimetype": "text/x-python",
   "name": "python",
   "nbconvert_exporter": "python",
   "pygments_lexer": "ipython2",
   "version": "2.7.10"
  }
 },
 "nbformat": 4,
 "nbformat_minor": 0
}
