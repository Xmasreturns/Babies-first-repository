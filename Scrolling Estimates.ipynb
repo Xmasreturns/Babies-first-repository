{
 "cells": [
  {
   "cell_type": "code",
   "execution_count": 173,
   "metadata": {
    "collapsed": false
   },
   "outputs": [],
   "source": [
    "\"\"\"This script is meant to calculate estimated cost and likelihood of \n",
    "enhancing items with assumed success rates and failure rates.\n",
    "The method will be to run a simulation and return plots\n",
    "of expected results. This script will use rates for ilevel 150.\"\"\"\n",
    "\n",
    "import numpy as np\n",
    "import pandas as pd\n",
    "from pandas import Series, DataFrame\n",
    "import matplotlib.pyplot as plt\n",
    "%matplotlib inline\n",
    "import seaborn as sns\n",
    "from __future__ import division\n",
    "from numpy.random import rand\n",
    "\n",
    "#Optionally use the user inputs\n",
    "#print 'Enhancement costs are for level 150 equips'\n",
    "#superior = raw_input('Is the item superior? (Yes/No) ')\n",
    "#enhance_to = raw_input('Enhancing to how many stars? ')\n",
    "#trials = raw_input('How many trials per star? ')"
   ]
  },
  {
   "cell_type": "code",
   "execution_count": 174,
   "metadata": {
    "collapsed": false
   },
   "outputs": [],
   "source": [
    "enh_rates = pd.read_csv('EnhancementRates.csv')"
   ]
  },
  {
   "cell_type": "code",
   "execution_count": 175,
   "metadata": {
    "collapsed": false
   },
   "outputs": [],
   "source": [
    "enh_rates['Success%'] = enh_rates['Success rate']/100\n",
    "enh_rates['Fail_stay%'] = enh_rates['Failure (stay)']/100\n",
    "enh_rates['Fail_dec%'] = enh_rates['Failure (decrease)']/100\n",
    "enh_rates['Fail_boom%'] = enh_rates['Failure (boom)']/100"
   ]
  },
  {
   "cell_type": "code",
   "execution_count": 176,
   "metadata": {
    "collapsed": false,
    "scrolled": true
   },
   "outputs": [
    {
     "data": {
      "text/html": [
       "<div>\n",
       "<table border=\"1\" class=\"dataframe\">\n",
       "  <thead>\n",
       "    <tr style=\"text-align: right;\">\n",
       "      <th></th>\n",
       "      <th>Stars</th>\n",
       "      <th>Success rate</th>\n",
       "      <th>Failure (stay)</th>\n",
       "      <th>Failure (decrease)</th>\n",
       "      <th>Failure (boom)</th>\n",
       "      <th>Superior</th>\n",
       "      <th>Cost</th>\n",
       "      <th>Success%</th>\n",
       "      <th>Fail_stay%</th>\n",
       "      <th>Fail_dec%</th>\n",
       "      <th>Fail_boom%</th>\n",
       "    </tr>\n",
       "  </thead>\n",
       "  <tbody>\n",
       "    <tr>\n",
       "      <th>0</th>\n",
       "      <td>0</td>\n",
       "      <td>95</td>\n",
       "      <td>5</td>\n",
       "      <td>0</td>\n",
       "      <td>0</td>\n",
       "      <td>no</td>\n",
       "      <td>136000</td>\n",
       "      <td>0.95</td>\n",
       "      <td>0.05</td>\n",
       "      <td>0</td>\n",
       "      <td>0</td>\n",
       "    </tr>\n",
       "    <tr>\n",
       "      <th>1</th>\n",
       "      <td>1</td>\n",
       "      <td>90</td>\n",
       "      <td>10</td>\n",
       "      <td>0</td>\n",
       "      <td>0</td>\n",
       "      <td>no</td>\n",
       "      <td>271000</td>\n",
       "      <td>0.90</td>\n",
       "      <td>0.10</td>\n",
       "      <td>0</td>\n",
       "      <td>0</td>\n",
       "    </tr>\n",
       "    <tr>\n",
       "      <th>2</th>\n",
       "      <td>2</td>\n",
       "      <td>85</td>\n",
       "      <td>15</td>\n",
       "      <td>0</td>\n",
       "      <td>0</td>\n",
       "      <td>no</td>\n",
       "      <td>406000</td>\n",
       "      <td>0.85</td>\n",
       "      <td>0.15</td>\n",
       "      <td>0</td>\n",
       "      <td>0</td>\n",
       "    </tr>\n",
       "    <tr>\n",
       "      <th>3</th>\n",
       "      <td>3</td>\n",
       "      <td>85</td>\n",
       "      <td>15</td>\n",
       "      <td>0</td>\n",
       "      <td>0</td>\n",
       "      <td>no</td>\n",
       "      <td>541000</td>\n",
       "      <td>0.85</td>\n",
       "      <td>0.15</td>\n",
       "      <td>0</td>\n",
       "      <td>0</td>\n",
       "    </tr>\n",
       "    <tr>\n",
       "      <th>4</th>\n",
       "      <td>4</td>\n",
       "      <td>80</td>\n",
       "      <td>20</td>\n",
       "      <td>0</td>\n",
       "      <td>0</td>\n",
       "      <td>no</td>\n",
       "      <td>676000</td>\n",
       "      <td>0.80</td>\n",
       "      <td>0.20</td>\n",
       "      <td>0</td>\n",
       "      <td>0</td>\n",
       "    </tr>\n",
       "  </tbody>\n",
       "</table>\n",
       "</div>"
      ],
      "text/plain": [
       "   Stars  Success rate  Failure (stay)  Failure (decrease)  Failure (boom)  \\\n",
       "0      0            95               5                   0               0   \n",
       "1      1            90              10                   0               0   \n",
       "2      2            85              15                   0               0   \n",
       "3      3            85              15                   0               0   \n",
       "4      4            80              20                   0               0   \n",
       "\n",
       "  Superior    Cost  Success%  Fail_stay%  Fail_dec%  Fail_boom%  \n",
       "0       no  136000      0.95        0.05          0           0  \n",
       "1       no  271000      0.90        0.10          0           0  \n",
       "2       no  406000      0.85        0.15          0           0  \n",
       "3       no  541000      0.85        0.15          0           0  \n",
       "4       no  676000      0.80        0.20          0           0  "
      ]
     },
     "execution_count": 176,
     "metadata": {},
     "output_type": "execute_result"
    }
   ],
   "source": [
    "enh_rates.head()"
   ]
  },
  {
   "cell_type": "code",
   "execution_count": 177,
   "metadata": {
    "collapsed": false
   },
   "outputs": [],
   "source": [
    "def create_trials_table(trials,superior,enhance_to,enh_rates):\n",
    "    results = DataFrame(index=np.arange(trials),columns=['Trial','Cost','Stars','Status'])\n",
    "    for trial in range(trials):\n",
    "        stars = 0\n",
    "        total_cost = 0\n",
    "        status = 'Exists'\n",
    "        while (stars < enhance_to):\n",
    "            random = rand()\n",
    "            row = enh_rates.loc[(enh_rates['Stars'] == stars) & (enh_rates['Superior'] == superior)]\n",
    "            success_pct = row['Success%'][row.index[0]]\n",
    "            fail_stay_pct = row['Fail_stay%'][row.index[0]] + success_pct\n",
    "            fail_dec_pct = row['Fail_dec%'][row.index[0]] + fail_stay_pct\n",
    "            fail_boom_pct = row['Fail_boom%'][row.index[0]] + fail_dec_pct\n",
    "            cost = row['Cost'][row.index[0]]\n",
    "        \n",
    "            if random <= success_pct:\n",
    "                stars += 1\n",
    "            elif random <= fail_stay_pct:\n",
    "                stars = stars\n",
    "            elif random <= fail_dec_pct:\n",
    "                stars -= 1\n",
    "            else:\n",
    "                status = 'Destroyed'\n",
    "                break\n",
    "            total_cost+= cost        \n",
    "       \n",
    "        results.loc[trial] = [trial, total_cost, stars, status]\n",
    "    return results"
   ]
  },
  {
   "cell_type": "code",
   "execution_count": 202,
   "metadata": {
    "collapsed": false
   },
   "outputs": [
    {
     "name": "stdout",
     "output_type": "stream",
     "text": [
      "0:09:55.680000\n"
     ]
    }
   ],
   "source": [
    "superior = 'yes'\n",
    "trials = 500\n",
    "enhance_to = 10\n",
    "dictCreate = True\n",
    "\n",
    "import datetime # Time it\n",
    "startTime = datetime.datetime.now()\n",
    "\n",
    "# Create a list to make cleaning easier; will include results for stars up to enhance_to\n",
    "allData = []\n",
    "columnData = {}\n",
    "for i in range(0,enhance_to):\n",
    "    allData.append(create_trials_table(trials,superior,i+1,enh_rates))\n",
    "    if (dictCreate):\n",
    "        for j in range(0,allData[i].shape[1]): #For each column in the current allData list entry\n",
    "            colName = allData[i].columns[j] #\n",
    "            if colName not in columnData: # Initialize lists in dict if not already done\n",
    "                columnData[colName] = []\n",
    "            columnData[colName].append(allData[i][colName]) # Add column to entry in dict\n",
    "\n",
    "endTime = datetime.datetime.now()\n",
    "print endTime-startTime"
   ]
  },
  {
   "cell_type": "code",
   "execution_count": 203,
   "metadata": {
    "collapsed": false
   },
   "outputs": [
    {
     "data": {
      "text/plain": [
       "<matplotlib.axes._subplots.AxesSubplot at 0x21b18d68>"
      ]
     },
     "execution_count": 203,
     "metadata": {},
     "output_type": "execute_result"
    },
    {
     "data": {
      "image/png": "[encoded data removed]",
      "text/plain": [
       "<matplotlib.figure.Figure at 0x22a1db00>"
      ]
     },
     "metadata": {},
     "output_type": "display_data"
    }
   ],
   "source": [
    "# Take a look at total cost distribution\n",
    "sns.stripplot(data=columnData['Cost'], palette='GnBu_d',jitter=True)"
   ]
  },
  {
   "cell_type": "code",
   "execution_count": 204,
   "metadata": {
    "collapsed": false
   },
   "outputs": [
    {
     "data": {
      "image/png": "[encoded data removed]",
      "text/plain": [
       "<matplotlib.figure.Figure at 0x1fd372b0>"
      ]
     },
     "metadata": {},
     "output_type": "display_data"
    }
   ],
   "source": [
    "# Alternative visualization with a boxplot\n",
    "BoxPlot = sns.boxplot(data=columnData['Cost'], palette='GnBu_d')"
   ]
  },
  {
   "cell_type": "code",
   "execution_count": 205,
   "metadata": {
    "collapsed": false,
    "scrolled": true
   },
   "outputs": [],
   "source": [
    "# Want to look at distribution of destroyed equipment, so pull the status data\n",
    "statuses = DataFrame(columnData['Status']).transpose()\n",
    "new_col_names = []\n",
    "for j in range(0,statuses.shape[1]): #iterate over columns\n",
    "    new_col_names.append('Status ' + str(j+1))\n",
    "statuses.columns = new_col_names"
   ]
  },
  {
   "cell_type": "code",
   "execution_count": 206,
   "metadata": {
    "collapsed": false
   },
   "outputs": [
    {
     "data": {
      "text/html": [
       "<div>\n",
       "<table border=\"1\" class=\"dataframe\">\n",
       "  <thead>\n",
       "    <tr style=\"text-align: right;\">\n",
       "      <th></th>\n",
       "      <th>Status 1</th>\n",
       "      <th>Status 2</th>\n",
       "      <th>Status 3</th>\n",
       "      <th>Status 4</th>\n",
       "      <th>Status 5</th>\n",
       "      <th>Status 6</th>\n",
       "      <th>Status 7</th>\n",
       "      <th>Status 8</th>\n",
       "      <th>Status 9</th>\n",
       "      <th>Status 10</th>\n",
       "    </tr>\n",
       "  </thead>\n",
       "  <tbody>\n",
       "    <tr>\n",
       "      <th>0</th>\n",
       "      <td>Exists</td>\n",
       "      <td>Exists</td>\n",
       "      <td>Exists</td>\n",
       "      <td>Exists</td>\n",
       "      <td>Exists</td>\n",
       "      <td>Exists</td>\n",
       "      <td>Exists</td>\n",
       "      <td>Exists</td>\n",
       "      <td>Destroyed</td>\n",
       "      <td>Destroyed</td>\n",
       "    </tr>\n",
       "    <tr>\n",
       "      <th>1</th>\n",
       "      <td>Exists</td>\n",
       "      <td>Exists</td>\n",
       "      <td>Exists</td>\n",
       "      <td>Exists</td>\n",
       "      <td>Exists</td>\n",
       "      <td>Exists</td>\n",
       "      <td>Exists</td>\n",
       "      <td>Exists</td>\n",
       "      <td>Exists</td>\n",
       "      <td>Destroyed</td>\n",
       "    </tr>\n",
       "    <tr>\n",
       "      <th>2</th>\n",
       "      <td>Exists</td>\n",
       "      <td>Exists</td>\n",
       "      <td>Exists</td>\n",
       "      <td>Exists</td>\n",
       "      <td>Exists</td>\n",
       "      <td>Exists</td>\n",
       "      <td>Destroyed</td>\n",
       "      <td>Exists</td>\n",
       "      <td>Destroyed</td>\n",
       "      <td>Destroyed</td>\n",
       "    </tr>\n",
       "    <tr>\n",
       "      <th>3</th>\n",
       "      <td>Exists</td>\n",
       "      <td>Exists</td>\n",
       "      <td>Exists</td>\n",
       "      <td>Exists</td>\n",
       "      <td>Exists</td>\n",
       "      <td>Exists</td>\n",
       "      <td>Exists</td>\n",
       "      <td>Destroyed</td>\n",
       "      <td>Exists</td>\n",
       "      <td>Destroyed</td>\n",
       "    </tr>\n",
       "    <tr>\n",
       "      <th>4</th>\n",
       "      <td>Exists</td>\n",
       "      <td>Exists</td>\n",
       "      <td>Exists</td>\n",
       "      <td>Exists</td>\n",
       "      <td>Exists</td>\n",
       "      <td>Exists</td>\n",
       "      <td>Exists</td>\n",
       "      <td>Exists</td>\n",
       "      <td>Destroyed</td>\n",
       "      <td>Destroyed</td>\n",
       "    </tr>\n",
       "  </tbody>\n",
       "</table>\n",
       "</div>"
      ],
      "text/plain": [
       "  Status 1 Status 2 Status 3 Status 4 Status 5 Status 6   Status 7   Status 8  \\\n",
       "0   Exists   Exists   Exists   Exists   Exists   Exists     Exists     Exists   \n",
       "1   Exists   Exists   Exists   Exists   Exists   Exists     Exists     Exists   \n",
       "2   Exists   Exists   Exists   Exists   Exists   Exists  Destroyed     Exists   \n",
       "3   Exists   Exists   Exists   Exists   Exists   Exists     Exists  Destroyed   \n",
       "4   Exists   Exists   Exists   Exists   Exists   Exists     Exists     Exists   \n",
       "\n",
       "    Status 9  Status 10  \n",
       "0  Destroyed  Destroyed  \n",
       "1     Exists  Destroyed  \n",
       "2  Destroyed  Destroyed  \n",
       "3     Exists  Destroyed  \n",
       "4  Destroyed  Destroyed  "
      ]
     },
     "execution_count": 206,
     "metadata": {},
     "output_type": "execute_result"
    }
   ],
   "source": [
    "statuses.head()"
   ]
  },
  {
   "cell_type": "code",
   "execution_count": 207,
   "metadata": {
    "collapsed": false
   },
   "outputs": [
    {
     "data": {
      "text/html": [
       "<div>\n",
       "<table border=\"1\" class=\"dataframe\">\n",
       "  <thead>\n",
       "    <tr style=\"text-align: right;\">\n",
       "      <th></th>\n",
       "      <th>0</th>\n",
       "      <th>1</th>\n",
       "      <th>2</th>\n",
       "      <th>3</th>\n",
       "      <th>4</th>\n",
       "      <th>5</th>\n",
       "      <th>6</th>\n",
       "      <th>7</th>\n",
       "      <th>8</th>\n",
       "      <th>9</th>\n",
       "    </tr>\n",
       "  </thead>\n",
       "  <tbody>\n",
       "    <tr>\n",
       "      <th>Destroyed</th>\n",
       "      <td>0</td>\n",
       "      <td>0</td>\n",
       "      <td>0</td>\n",
       "      <td>0</td>\n",
       "      <td>0</td>\n",
       "      <td>19</td>\n",
       "      <td>71</td>\n",
       "      <td>164</td>\n",
       "      <td>287</td>\n",
       "      <td>386</td>\n",
       "    </tr>\n",
       "    <tr>\n",
       "      <th>Exists</th>\n",
       "      <td>500</td>\n",
       "      <td>500</td>\n",
       "      <td>500</td>\n",
       "      <td>500</td>\n",
       "      <td>500</td>\n",
       "      <td>481</td>\n",
       "      <td>429</td>\n",
       "      <td>336</td>\n",
       "      <td>213</td>\n",
       "      <td>114</td>\n",
       "    </tr>\n",
       "  </tbody>\n",
       "</table>\n",
       "</div>"
      ],
      "text/plain": [
       "             0    1    2    3    4    5    6    7    8    9\n",
       "Destroyed    0    0    0    0    0   19   71  164  287  386\n",
       "Exists     500  500  500  500  500  481  429  336  213  114"
      ]
     },
     "execution_count": 207,
     "metadata": {},
     "output_type": "execute_result"
    }
   ],
   "source": [
    "# Create a df with value counts\n",
    "status_df = []\n",
    "for j in range(0,statuses.shape[1]):\n",
    "    status_df.append(statuses['Status ' + str(j+1)].value_counts())\n",
    "status_df = DataFrame(status_df).transpose()\n",
    "status_df.fillna(0)"
   ]
  },
  {
   "cell_type": "code",
   "execution_count": 208,
   "metadata": {
    "collapsed": true
   },
   "outputs": [],
   "source": [
    "# Rename for clarity in new df\n",
    "new_col_names = []\n",
    "for j in range(0,status_df.shape[1]): #iterate over columns\n",
    "    new_col_names.append(str(j+1) + ' stars')\n",
    "status_df.columns = new_col_names"
   ]
  },
  {
   "cell_type": "code",
   "execution_count": 209,
   "metadata": {
    "collapsed": false
   },
   "outputs": [
    {
     "data": {
      "text/plain": [
       "<matplotlib.axes._subplots.AxesSubplot at 0x2250df28>"
      ]
     },
     "execution_count": 209,
     "metadata": {},
     "output_type": "execute_result"
    },
    {
     "data": {
      "image/png": "[encoded data removed]",
      "text/plain": [
       "<matplotlib.figure.Figure at 0x223d33c8>"
      ]
     },
     "metadata": {},
     "output_type": "display_data"
    }
   ],
   "source": [
    "status_df.transpose().plot(kind='bar',figsize=(10,5),cmap='Set3')"
   ]
  },
  {
   "cell_type": "code",
   "execution_count": null,
   "metadata": {
    "collapsed": true
   },
   "outputs": [],
   "source": []
  },
  {
   "cell_type": "code",
   "execution_count": null,
   "metadata": {
    "collapsed": true
   },
   "outputs": [],
   "source": []
  }
 ],
 "metadata": {
  "kernelspec": {
   "display_name": "Python 2",
   "language": "python",
   "name": "python2"
  },
  "language_info": {
   "codemirror_mode": {
    "name": "ipython",
    "version": 2
   },
   "file_extension": ".py",
   "mimetype": "text/x-python",
   "name": "python",
   "nbconvert_exporter": "python",
   "pygments_lexer": "ipython2",
   "version": "2.7.10"
  }
 },
 "nbformat": 4,
 "nbformat_minor": 0
}
